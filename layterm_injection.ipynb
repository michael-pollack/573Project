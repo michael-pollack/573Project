{
 "cells": [
  {
   "cell_type": "code",
   "execution_count": 1,
   "id": "554e6858-1ef3-4cf3-b402-ed26572b95cc",
   "metadata": {},
   "outputs": [
    {
     "name": "stdout",
     "output_type": "stream",
     "text": [
      "Defaulting to user installation because normal site-packages is not writeable\n",
      "Requirement already satisfied: nltk in /Users/rachel/Library/Python/3.9/lib/python/site-packages (from -r requirements.txt (line 1)) (3.9.1)\n",
      "Requirement already satisfied: wordcloud in /Users/rachel/Library/Python/3.9/lib/python/site-packages (from -r requirements.txt (line 2)) (1.9.4)\n",
      "Requirement already satisfied: scikit-learn in /Users/rachel/Library/Python/3.9/lib/python/site-packages (from -r requirements.txt (line 3)) (1.6.1)\n",
      "Requirement already satisfied: pandas in /Users/rachel/Library/Python/3.9/lib/python/site-packages (from -r requirements.txt (line 4)) (2.2.3)\n",
      "Requirement already satisfied: matplotlib in /Users/rachel/Library/Python/3.9/lib/python/site-packages (from -r requirements.txt (line 5)) (3.9.4)\n",
      "Requirement already satisfied: numpy in /Users/rachel/Library/Python/3.9/lib/python/site-packages (from -r requirements.txt (line 6)) (2.0.2)\n",
      "Requirement already satisfied: seaborn in /Users/rachel/Library/Python/3.9/lib/python/site-packages (from -r requirements.txt (line 7)) (0.13.2)\n",
      "Requirement already satisfied: tabulate in /Users/rachel/Library/Python/3.9/lib/python/site-packages (from -r requirements.txt (line 8)) (0.9.0)\n",
      "Requirement already satisfied: fastparquet in /Users/rachel/Library/Python/3.9/lib/python/site-packages (from -r requirements.txt (line 9)) (2024.11.0)\n",
      "Requirement already satisfied: joblib in /Users/rachel/Library/Python/3.9/lib/python/site-packages (from nltk->-r requirements.txt (line 1)) (1.4.2)\n",
      "Requirement already satisfied: click in /Users/rachel/Library/Python/3.9/lib/python/site-packages (from nltk->-r requirements.txt (line 1)) (8.1.8)\n",
      "Requirement already satisfied: tqdm in /Users/rachel/Library/Python/3.9/lib/python/site-packages (from nltk->-r requirements.txt (line 1)) (4.67.1)\n",
      "Requirement already satisfied: regex>=2021.8.3 in /Users/rachel/Library/Python/3.9/lib/python/site-packages (from nltk->-r requirements.txt (line 1)) (2024.11.6)\n",
      "Requirement already satisfied: pillow in /Users/rachel/Library/Python/3.9/lib/python/site-packages (from wordcloud->-r requirements.txt (line 2)) (11.1.0)\n",
      "Requirement already satisfied: threadpoolctl>=3.1.0 in /Users/rachel/Library/Python/3.9/lib/python/site-packages (from scikit-learn->-r requirements.txt (line 3)) (3.6.0)\n",
      "Requirement already satisfied: scipy>=1.6.0 in /Users/rachel/Library/Python/3.9/lib/python/site-packages (from scikit-learn->-r requirements.txt (line 3)) (1.13.1)\n",
      "Requirement already satisfied: python-dateutil>=2.8.2 in /Users/rachel/Library/Python/3.9/lib/python/site-packages (from pandas->-r requirements.txt (line 4)) (2.8.2)\n",
      "Requirement already satisfied: pytz>=2020.1 in /Users/rachel/Library/Python/3.9/lib/python/site-packages (from pandas->-r requirements.txt (line 4)) (2025.2)\n",
      "Requirement already satisfied: tzdata>=2022.7 in /Users/rachel/Library/Python/3.9/lib/python/site-packages (from pandas->-r requirements.txt (line 4)) (2025.2)\n",
      "Requirement already satisfied: pyparsing>=2.3.1 in /Users/rachel/Library/Python/3.9/lib/python/site-packages (from matplotlib->-r requirements.txt (line 5)) (3.2.3)\n",
      "Requirement already satisfied: fonttools>=4.22.0 in /Users/rachel/Library/Python/3.9/lib/python/site-packages (from matplotlib->-r requirements.txt (line 5)) (4.57.0)\n",
      "Requirement already satisfied: packaging>=20.0 in /Users/rachel/Library/Python/3.9/lib/python/site-packages (from matplotlib->-r requirements.txt (line 5)) (23.2)\n",
      "Requirement already satisfied: kiwisolver>=1.3.1 in /Users/rachel/Library/Python/3.9/lib/python/site-packages (from matplotlib->-r requirements.txt (line 5)) (1.4.7)\n",
      "Requirement already satisfied: importlib-resources>=3.2.0 in /Users/rachel/Library/Python/3.9/lib/python/site-packages (from matplotlib->-r requirements.txt (line 5)) (6.5.2)\n",
      "Requirement already satisfied: contourpy>=1.0.1 in /Users/rachel/Library/Python/3.9/lib/python/site-packages (from matplotlib->-r requirements.txt (line 5)) (1.3.0)\n",
      "Requirement already satisfied: cycler>=0.10 in /Users/rachel/Library/Python/3.9/lib/python/site-packages (from matplotlib->-r requirements.txt (line 5)) (0.12.1)\n",
      "Requirement already satisfied: fsspec in /Users/rachel/Library/Python/3.9/lib/python/site-packages (from fastparquet->-r requirements.txt (line 9)) (2025.3.2)\n",
      "Requirement already satisfied: cramjam>=2.3 in /Users/rachel/Library/Python/3.9/lib/python/site-packages (from fastparquet->-r requirements.txt (line 9)) (2.9.1)\n",
      "Requirement already satisfied: zipp>=3.1.0 in /Users/rachel/Library/Python/3.9/lib/python/site-packages (from importlib-resources>=3.2.0->matplotlib->-r requirements.txt (line 5)) (3.17.0)\n",
      "Requirement already satisfied: six>=1.5 in /Applications/Xcode.app/Contents/Developer/Library/Frameworks/Python3.framework/Versions/3.9/lib/python3.9/site-packages (from python-dateutil>=2.8.2->pandas->-r requirements.txt (line 4)) (1.15.0)\n",
      "\u001b[33mWARNING: You are using pip version 21.2.4; however, version 25.1.1 is available.\n",
      "You should consider upgrading via the '/Applications/Xcode.app/Contents/Developer/usr/bin/python3 -m pip install --upgrade pip' command.\u001b[0m\n",
      "Note: you may need to restart the kernel to use updated packages.\n"
     ]
    }
   ],
   "source": [
    "#%pip install -r requirements.txt\n",
    "#pip installs a list of libraries\n",
    "#list can be found in requirements.txt\n",
    "\n",
    "#important import names\n",
    "#import pandas as pd\n",
    "#import matplotlib.pyplot as plt\n",
    "#import numpy as np\n",
    "#import seaborn as sns"
   ]
  },
  {
   "cell_type": "code",
   "execution_count": 2,
   "id": "e56a42af-56df-4c2f-819b-1c59ae3b2de8",
   "metadata": {},
   "outputs": [
    {
     "name": "stderr",
     "output_type": "stream",
     "text": [
      "[nltk_data] Downloading package punkt_tab to\n",
      "[nltk_data]     /Users/rachel/nltk_data...\n",
      "[nltk_data]   Package punkt_tab is already up-to-date!\n",
      "[nltk_data] Downloading package tagsets to /Users/rachel/nltk_data...\n",
      "[nltk_data]   Package tagsets is already up-to-date!\n",
      "[nltk_data] Downloading package stopwords to\n",
      "[nltk_data]     /Users/rachel/nltk_data...\n",
      "[nltk_data]   Package stopwords is already up-to-date!\n",
      "[nltk_data] Downloading package punkt to /Users/rachel/nltk_data...\n",
      "[nltk_data]   Package punkt is already up-to-date!\n",
      "[nltk_data] Downloading package averaged_perceptron_tagger_eng to\n",
      "[nltk_data]     /Users/rachel/nltk_data...\n",
      "[nltk_data]   Package averaged_perceptron_tagger_eng is already up-to-\n",
      "[nltk_data]       date!\n",
      "[nltk_data] Downloading package averaged_perceptron_tagger to\n",
      "[nltk_data]     /Users/rachel/nltk_data...\n",
      "[nltk_data]   Package averaged_perceptron_tagger is already up-to-\n",
      "[nltk_data]       date!\n",
      "[nltk_data] Downloading package wordnet to /Users/rachel/nltk_data...\n",
      "[nltk_data]   Package wordnet is already up-to-date!\n",
      "[nltk_data] Downloading package omw-1.4 to /Users/rachel/nltk_data...\n",
      "[nltk_data]   Package omw-1.4 is already up-to-date!\n"
     ]
    }
   ],
   "source": [
    "import nltk\n",
    "from nltk.classify.scikitlearn import SklearnClassifier\n",
    "from nltk.classify import ClassifierI\n",
    "nltk.download('punkt_tab')\n",
    "nltk.download('tagsets')\n",
    "nltk.download('stopwords')\n",
    "nltk.download('punkt')\n",
    "from nltk.corpus import stopwords\n",
    "nltk.download('averaged_perceptron_tagger_eng')\n",
    "nltk.download('averaged_perceptron_tagger')\n",
    "nltk.download('wordnet')\n",
    "nltk.download('omw-1.4')\n",
    "from nltk.corpus import wordnet\n",
    "from nltk import pos_tag\n",
    "from nltk.stem import WordNetLemmatizer, PorterStemmer\n",
    "from nltk.tokenize import regexp_tokenize, word_tokenize, RegexpTokenizer\n",
    "import random\n",
    "import pandas as pd\n",
    "import matplotlib.pyplot as plt\n",
    "import numpy as np\n",
    "import seaborn as sns"
   ]
  },
  {
   "cell_type": "code",
   "execution_count": 3,
   "id": "509aef29-39f3-474c-b7d7-0412b017a986",
   "metadata": {},
   "outputs": [],
   "source": [
    "df_elife_train = pd.read_parquet('data/Elife/train-00000-of-00001.parquet')\n",
    "#get df for development data"
   ]
  },
  {
   "cell_type": "code",
   "execution_count": 4,
   "id": "c38f796f-0074-4d35-bcb1-780d28f20eea",
   "metadata": {},
   "outputs": [
    {
     "data": {
      "text/html": [
       "<div>\n",
       "<style scoped>\n",
       "    .dataframe tbody tr th:only-of-type {\n",
       "        vertical-align: middle;\n",
       "    }\n",
       "\n",
       "    .dataframe tbody tr th {\n",
       "        vertical-align: top;\n",
       "    }\n",
       "\n",
       "    .dataframe thead th {\n",
       "        text-align: right;\n",
       "    }\n",
       "</style>\n",
       "<table border=\"1\" class=\"dataframe\">\n",
       "  <thead>\n",
       "    <tr style=\"text-align: right;\">\n",
       "      <th></th>\n",
       "      <th>article</th>\n",
       "      <th>summary</th>\n",
       "      <th>section_headings</th>\n",
       "      <th>keywords</th>\n",
       "      <th>year</th>\n",
       "      <th>title</th>\n",
       "    </tr>\n",
       "  </thead>\n",
       "  <tbody>\n",
       "    <tr>\n",
       "      <th>0</th>\n",
       "      <td>In temperate climates , winter deaths exceed s...</td>\n",
       "      <td>In the USA , more deaths happen in the winter ...</td>\n",
       "      <td>[Abstract, Introduction, Results, Discussion, ...</td>\n",
       "      <td>[epidemiology, and, global, health]</td>\n",
       "      <td>2018</td>\n",
       "      <td>National and regional seasonal dynamics of all...</td>\n",
       "    </tr>\n",
       "    <tr>\n",
       "      <th>1</th>\n",
       "      <td>Whether complement dysregulation directly cont...</td>\n",
       "      <td>Most people have likely experienced the discom...</td>\n",
       "      <td>[Abstract, Introduction, Results, Discussion, ...</td>\n",
       "      <td>[microbiology, and, infectious, disease, immun...</td>\n",
       "      <td>2019</td>\n",
       "      <td>Complement and CD4+ T cells drive context-spec...</td>\n",
       "    </tr>\n",
       "    <tr>\n",
       "      <th>2</th>\n",
       "      <td>Variation in the presentation of hereditary im...</td>\n",
       "      <td>The immune system protects an individual from ...</td>\n",
       "      <td>[Abstract, Introduction, Results, Discussion, ...</td>\n",
       "      <td>[microbiology, and, infectious, disease, immun...</td>\n",
       "      <td>2015</td>\n",
       "      <td>Phenotypic complementation of genetic immunode...</td>\n",
       "    </tr>\n",
       "    <tr>\n",
       "      <th>3</th>\n",
       "      <td>Rapid and flexible interpretation of conflicti...</td>\n",
       "      <td>The brain adapts to control our behavior in di...</td>\n",
       "      <td>[Abstract, Introduction, Results, Discussion, ...</td>\n",
       "      <td>[neuroscience]</td>\n",
       "      <td>2016</td>\n",
       "      <td>Cascade of neural processing orchestrates cogn...</td>\n",
       "    </tr>\n",
       "    <tr>\n",
       "      <th>4</th>\n",
       "      <td>Myosin 5a is a dual-headed molecular motor tha...</td>\n",
       "      <td>Cells use motor proteins that to move organell...</td>\n",
       "      <td>[Abstract, Introduction, Results, Discussion, ...</td>\n",
       "      <td>[structural, biology, and, molecular, biophysics]</td>\n",
       "      <td>2015</td>\n",
       "      <td>Structural dynamics of myosin 5 during process...</td>\n",
       "    </tr>\n",
       "  </tbody>\n",
       "</table>\n",
       "</div>"
      ],
      "text/plain": [
       "                                             article  \\\n",
       "0  In temperate climates , winter deaths exceed s...   \n",
       "1  Whether complement dysregulation directly cont...   \n",
       "2  Variation in the presentation of hereditary im...   \n",
       "3  Rapid and flexible interpretation of conflicti...   \n",
       "4  Myosin 5a is a dual-headed molecular motor tha...   \n",
       "\n",
       "                                             summary  \\\n",
       "0  In the USA , more deaths happen in the winter ...   \n",
       "1  Most people have likely experienced the discom...   \n",
       "2  The immune system protects an individual from ...   \n",
       "3  The brain adapts to control our behavior in di...   \n",
       "4  Cells use motor proteins that to move organell...   \n",
       "\n",
       "                                    section_headings  \\\n",
       "0  [Abstract, Introduction, Results, Discussion, ...   \n",
       "1  [Abstract, Introduction, Results, Discussion, ...   \n",
       "2  [Abstract, Introduction, Results, Discussion, ...   \n",
       "3  [Abstract, Introduction, Results, Discussion, ...   \n",
       "4  [Abstract, Introduction, Results, Discussion, ...   \n",
       "\n",
       "                                            keywords  year  \\\n",
       "0                [epidemiology, and, global, health]  2018   \n",
       "1  [microbiology, and, infectious, disease, immun...  2019   \n",
       "2  [microbiology, and, infectious, disease, immun...  2015   \n",
       "3                                     [neuroscience]  2016   \n",
       "4  [structural, biology, and, molecular, biophysics]  2015   \n",
       "\n",
       "                                               title  \n",
       "0  National and regional seasonal dynamics of all...  \n",
       "1  Complement and CD4+ T cells drive context-spec...  \n",
       "2  Phenotypic complementation of genetic immunode...  \n",
       "3  Cascade of neural processing orchestrates cogn...  \n",
       "4  Structural dynamics of myosin 5 during process...  "
      ]
     },
     "execution_count": 4,
     "metadata": {},
     "output_type": "execute_result"
    }
   ],
   "source": [
    "df_elife_train.head(5)\n",
    "#check data exists"
   ]
  },
  {
   "cell_type": "code",
   "execution_count": 6,
   "id": "db14ba63-634b-48f8-a083-8af8a1e9b424",
   "metadata": {},
   "outputs": [],
   "source": [
    "og_summ_list = df_elife_train.summary.tolist()\n",
    "#grab all summaries and put them in a list"
   ]
  },
  {
   "cell_type": "code",
   "execution_count": 7,
   "id": "e99d61e1-d040-4072-8c50-0c26002b3e62",
   "metadata": {},
   "outputs": [],
   "source": [
    "test_summ = og_summ_list[28]\n",
    "#genomes, DNA\n",
    "#target words for summary #28"
   ]
  },
  {
   "cell_type": "code",
   "execution_count": 8,
   "id": "7d87c3ee-1d6f-474a-9554-45a1f9abbd96",
   "metadata": {},
   "outputs": [],
   "source": [
    "term_dict = {\"genome\" : [(\"complete set of genetic instructions\", \"NN\"), (\"complete sets of genetic instructions\", \"NNS\")]}\n",
    "#sample dictionairy in the form of key:lemma value:list of tuples where each tuples is a pair of layterm and POS tag"
   ]
  },
  {
   "cell_type": "code",
   "execution_count": 18,
   "id": "b723326b-1116-4379-8602-920c412b7019",
   "metadata": {},
   "outputs": [
    {
     "data": {
      "text/plain": [
       "'Our genome'"
      ]
     },
     "execution_count": 18,
     "metadata": {},
     "output_type": "execute_result"
    }
   ],
   "source": [
    "test_summ[:10]\n",
    "#test data present -> genome/s"
   ]
  },
  {
   "cell_type": "code",
   "execution_count": 19,
   "id": "dda7abaf-fed5-4509-b31c-46655eaf2d71",
   "metadata": {},
   "outputs": [],
   "source": [
    "def create_injections(doc):\n",
    "    \"\"\"A function to inject layterms. Takes in a summary and Creates parallel documents, one in raw form and \n",
    "    one containing the lemmatized version of each token\"\"\"\n",
    "    lemma_doc = []\n",
    "    raw_doc =[]\n",
    "    doc_sents = nltk.sent_tokenize(doc)\n",
    "    regex_token = RegexpTokenizer(r\"([a-zA-Z]+(?:’[a-z]+)?)\")\n",
    "    for sent in doc_sents:\n",
    "        #print(type(sent))\n",
    "        doc = regex_token.tokenize(sent)\n",
    "        doc = [word.lower() for word in doc]\n",
    "        doc = pos_tag(doc)\n",
    "        lemmatizer = WordNetLemmatizer() \n",
    "        doc2 = [(lemmatizer.lemmatize(word[0]), word[1]) for word in doc]\n",
    "        lemma_doc.append(doc2)\n",
    "        raw_doc.append(doc)\n",
    "    print(len(raw_doc))\n",
    "    print(len(lemma_doc))\n",
    "    #doc = [(word[0], get_wordnet_pos(word[1])) for word in doc]\n",
    "    #lemmatizer = WordNetLemmatizer() \n",
    "    #doc = [lemmatizer.lemmatize(word[0], word[1]) for word in doc]\n",
    "    return raw_doc, lemma_doc"
   ]
  },
  {
   "cell_type": "code",
   "execution_count": 20,
   "id": "ce9a1b0f-1fa5-43af-8ec3-39fa55069de4",
   "metadata": {},
   "outputs": [
    {
     "name": "stdout",
     "output_type": "stream",
     "text": [
      "22\n",
      "22\n"
     ]
    }
   ],
   "source": [
    "raw, lemma = create_injections(test_summ)\n",
    "#check that raw data and lemmatized data are of same lenght, sentence tokenizaiton is stable"
   ]
  },
  {
   "cell_type": "code",
   "execution_count": 12,
   "id": "10b5697c-2ee3-43e8-9b31-729c4a875129",
   "metadata": {},
   "outputs": [
    {
     "name": "stdout",
     "output_type": "stream",
     "text": [
      "sentence index:  0 word index:  1 ('complete sets of genetic instructions', 'NNS')\n",
      "sentence index:  3 word index:  26 ('complete set of genetic instructions', 'NN')\n",
      "sentence index:  12 word index:  9 ('complete set of genetic instructions', 'NN')\n",
      "sentence index:  12 word index:  22 ('complete set of genetic instructions', 'NN')\n",
      "sentence index:  21 word index:  17 ('complete set of genetic instructions', 'NN')\n"
     ]
    }
   ],
   "source": [
    "#This was built to prototype the find function. I'm leaving it here for clarity now but will delete later\n",
    "for i in range(0, len(lemma)): #for every sentence\n",
    "    for j in range(0, len(lemma[i])): # for every word in every sentence\n",
    "        #print(lemma[i][j])\n",
    "        if lemma[i][j][0] in term_dict: #if word in term_dict\n",
    "            #print(lemma[i][j][0])\n",
    "            dict_list = term_dict[lemma[i][j][0]] #get the list of values\n",
    "            for k in dict_list: #loop through list\n",
    "                if lemma[i][j][1] == k[1]: #if term found print its location in both docs\n",
    "                    print(\"sentence index: \", i, \"word index: \", j, k)\n",
    "                    #word at S0W1 = genomes\n",
    "                    #word at S3W26 = genome\n",
    "                    #word at S12W9 = genome\n",
    "                    #S12W22 = genome\n",
    "                    #S21W17 = genome"
   ]
  },
  {
   "cell_type": "code",
   "execution_count": 27,
   "id": "046050c6-5826-4057-9208-b26d9af88fc0",
   "metadata": {},
   "outputs": [],
   "source": [
    "def find(lemma):\n",
    "    \"\"\"function for matching the location in the raw doc with contents of the lemma doc at the parallel location\"\"\"\n",
    "    collect = []\n",
    "    for sent_id in range(0, len(lemma)): #for every sentence\n",
    "        for word_id in range(0, len(lemma[sent_id])): # for every word in every sentence\n",
    "            #print(lemma[i][j])\n",
    "            if lemma[sent_id][word_id][0] in term_dict: #if word in term_dict\n",
    "                #print(lemma[i][j][0])\n",
    "                dict_list = term_dict[lemma[sent_id][word_id][0]] #get the list of values\n",
    "                for layterm_tag in dict_list: #loop through list\n",
    "                    #print(k[1])\n",
    "                    #print(\"GGGGGGGGGGGGGGGGGGGGGGGGGGGGGGGGGGGGGGGGG\")\n",
    "                    if lemma[sent_id][word_id][1] == layterm_tag[1]:\n",
    "                        collect.append((sent_id, word_id, layterm_tag[0], layterm_tag[1]))\n",
    "    return collect\n",
    "                        #print(\"sentence index: \", i, \"word index: \", j, k[0])"
   ]
  },
  {
   "cell_type": "code",
   "execution_count": 28,
   "id": "115a6382-a79b-4843-b61b-acc82907cc29",
   "metadata": {},
   "outputs": [
    {
     "name": "stdout",
     "output_type": "stream",
     "text": [
      "[(0, 1, 'complete sets of genetic instructions', 'NNS'), (3, 26, 'complete set of genetic instructions', 'NN'), (12, 9, 'complete set of genetic instructions', 'NN'), (12, 22, 'complete set of genetic instructions', 'NN'), (21, 17, 'complete set of genetic instructions', 'NN')]\n"
     ]
    }
   ],
   "source": [
    "rep_list = find(lemma)\n",
    "print(rep_list)"
   ]
  },
  {
   "cell_type": "code",
   "execution_count": 15,
   "id": "54ba951f-9092-4cea-b40e-42a23ecaf319",
   "metadata": {},
   "outputs": [],
   "source": [
    "def replace(rep_list, raw):\n",
    "    \"\"\"function to replace med term with layterm\"\"\"\n",
    "    for loc in rep_list:\n",
    "        sent_ind = loc[0]\n",
    "        word_ind = loc[1]\n",
    "        layt = loc[2]\n",
    "        layt_tag = loc[3]\n",
    "        raw[sent_ind][word_ind] = (layt, layt_tag)\n",
    "    "
   ]
  },
  {
   "cell_type": "code",
   "execution_count": 16,
   "id": "3a287531-77f3-4e11-8888-ec46b825bfac",
   "metadata": {},
   "outputs": [],
   "source": [
    "check = replace(rep_list, raw)"
   ]
  },
  {
   "cell_type": "code",
   "execution_count": 17,
   "id": "a597a3f3-31b3-4e39-837d-072529ad96fc",
   "metadata": {},
   "outputs": [
    {
     "name": "stdout",
     "output_type": "stream",
     "text": [
      "[[('our', 'PRP$'), ('complete sets of genetic instructions', 'NNS'), ('contain', 'VBP'), ('around', 'IN'), ('different', 'JJ'), ('genes', 'NNS'), ('that', 'WDT'), ('code', 'VBP'), ('for', 'IN'), ('instructions', 'NNS'), ('to', 'TO'), ('create', 'VB'), ('proteins', 'NNS'), ('and', 'CC'), ('other', 'JJ'), ('important', 'JJ'), ('molecules', 'NNS')], [('when', 'WRB'), ('changes', 'NNS'), ('or', 'CC'), ('mutations', 'NNS'), ('occur', 'VBP'), ('within', 'IN'), ('these', 'DT'), ('genes', 'NNS'), ('malfunctioning', 'VBG'), ('proteins', 'NNS'), ('that', 'WDT'), ('are', 'VBP'), ('damaging', 'VBG'), ('to', 'TO'), ('the', 'DT'), ('cell', 'NN'), ('may', 'MD'), ('be', 'VB'), ('produced', 'VBN')], [('researchers', 'NNS'), ('of', 'IN'), ('human', 'JJ'), ('genetics', 'NNS'), ('have', 'VBP'), ('tried', 'VBN'), ('to', 'TO'), ('spot', 'VB'), ('the', 'DT'), ('genetic', 'JJ'), ('mutations', 'NNS'), ('that', 'WDT'), ('are', 'VBP'), ('associated', 'VBN'), ('with', 'IN'), ('illnesses', 'NNS'), ('for', 'IN'), ('example', 'NN'), ('heart', 'NN'), ('diseases', 'NNS')], [('however', 'RB'), ('they', 'PRP'), ('found', 'VBP'), ('that', 'IN'), ('most', 'JJS'), ('of', 'IN'), ('these', 'DT'), ('mutations', 'NNS'), ('are', 'VBP'), ('actually', 'RB'), ('located', 'VBN'), ('outside', 'IN'), ('of', 'IN'), ('genes', 'NNS'), ('in', 'IN'), ('the', 'DT'), ('non', 'NN'), ('coding', 'VBG'), ('areas', 'NNS'), ('that', 'WDT'), ('make', 'VBP'), ('up', 'RP'), ('the', 'DT'), ('majority', 'NN'), ('of', 'IN'), ('our', 'PRP$'), ('complete set of genetic instructions', 'NN')], [('these', 'DT'), ('mutations', 'NNS'), ('do', 'VBP'), ('not', 'RB'), ('modify', 'VB'), ('proteins', 'NNS'), ('directly', 'RB'), ('which', 'WDT'), ('makes', 'VBZ'), ('it', 'PRP'), ('challenging', 'VBG'), ('to', 'TO'), ('understand', 'VB'), ('how', 'WRB'), ('they', 'PRP'), ('may', 'MD'), ('be', 'VB'), ('related', 'VBN'), ('to', 'TO'), ('heart', 'NN'), ('conditions', 'NNS')], [('one', 'CD'), ('possibility', 'NN'), ('is', 'VBZ'), ('that', 'IN'), ('the', 'DT'), ('genetic', 'JJ'), ('changes', 'NNS'), ('affect', 'VBP'), ('regions', 'NNS'), ('called', 'VBD'), ('enhancers', 'NNS'), ('which', 'WDT'), ('control', 'VBP'), ('where', 'WRB'), ('when', 'WRB'), ('and', 'CC'), ('how', 'WRB'), ('much', 'RB'), ('a', 'DT'), ('gene', 'NN'), ('is', 'VBZ'), ('turned', 'VBN'), ('on', 'IN'), ('by', 'IN'), ('physically', 'RB'), ('interacting', 'VBG'), ('with', 'IN'), ('it', 'PRP')], [('mutations', 'NNS'), ('in', 'IN'), ('enhancers', 'NNS'), ('could', 'MD'), ('lead', 'VB'), ('to', 'TO'), ('a', 'DT'), ('gene', 'NN'), ('producing', 'VBG'), ('too', 'RB'), ('much', 'JJ'), ('or', 'CC'), ('too', 'RB'), ('little', 'JJ'), ('of', 'IN'), ('a', 'DT'), ('protein', 'NN'), ('which', 'WDT'), ('might', 'MD'), ('create', 'VB'), ('problems', 'NNS'), ('in', 'IN'), ('the', 'DT'), ('cell', 'NN')], [('yet', 'RB'), ('it', 'PRP'), ('is', 'VBZ'), ('difficult', 'JJ'), ('to', 'TO'), ('match', 'VB'), ('an', 'DT'), ('enhancer', 'NN'), ('with', 'IN'), ('the', 'DT'), ('gene', 'NN'), ('or', 'CC'), ('genes', 'NNS'), ('it', 'PRP'), ('controls', 'VBZ')], [('one', 'CD'), ('reason', 'NN'), ('is', 'VBZ'), ('that', 'IN'), ('a', 'DT'), ('non', 'JJ'), ('coding', 'VBG'), ('region', 'NN'), ('can', 'MD'), ('influence', 'VB'), ('a', 'DT'), ('gene', 'NN'), ('placed', 'VBD'), ('far', 'RB'), ('away', 'RB'), ('on', 'IN'), ('the', 'DT'), ('dna', 'NN'), ('strand', 'NN')], [('indeed', 'RB'), ('the', 'DT'), ('long', 'JJ'), ('dna', 'NN'), ('molecule', 'NN'), ('precisely', 'RB'), ('folds', 'VBZ'), ('in', 'IN'), ('on', 'IN'), ('itself', 'PRP'), ('to', 'TO'), ('fit', 'VB'), ('inside', 'IN'), ('its', 'PRP$'), ('compartment', 'NN'), ('in', 'IN'), ('the', 'DT'), ('cell', 'NN'), ('which', 'WDT'), ('can', 'MD'), ('bring', 'VB'), ('together', 'RB'), ('distant', 'JJ'), ('sequences', 'NNS')], [('montefiori', 'NNS'), ('et', 'VBP'), ('al', 'NN')], [('take', 'VB'), ('over', 'RP'), ('non', 'JJ'), ('coding', 'VBG'), ('areas', 'NNS'), ('which', 'WDT'), ('can', 'MD'), ('carry', 'VB'), ('mutations', 'NNS'), ('associated', 'VBN'), ('with', 'IN'), ('heart', 'NN'), ('diseases', 'NNS'), ('and', 'CC'), ('use', 'VB'), ('a', 'DT'), ('technique', 'NN'), ('called', 'VBN'), ('hi', 'NN'), ('c', 'NN'), ('to', 'TO'), ('try', 'VB'), ('to', 'TO'), ('identify', 'VB'), ('which', 'WDT'), ('genes', 'NNS'), ('these', 'DT'), ('regions', 'NNS'), ('may', 'MD'), ('control', 'VB')], [('the', 'DT'), ('tool', 'NN'), ('can', 'MD'), ('model', 'VB'), ('the', 'DT'), ('d', 'JJ'), ('organization', 'NN'), ('of', 'IN'), ('the', 'DT'), ('complete set of genetic instructions', 'NN'), ('and', 'CC'), ('it', 'PRP'), ('was', 'VBD'), ('further', 'RBR'), ('modified', 'VBN'), ('to', 'TO'), ('capture', 'VB'), ('only', 'RB'), ('the', 'DT'), ('regions', 'NNS'), ('of', 'IN'), ('the', 'DT'), ('complete set of genetic instructions', 'NN'), ('that', 'WDT'), ('contain', 'VBP'), ('genes', 'NNS'), ('and', 'CC'), ('the', 'DT'), ('dna', 'NN'), ('sequences', 'VBZ'), ('that', 'IN'), ('interact', 'NN'), ('with', 'IN'), ('them', 'PRP'), ('in', 'IN'), ('human', 'JJ'), ('heart', 'NN'), ('cells', 'NNS')], [('this', 'DT'), ('helped', 'VBD'), ('to', 'TO'), ('create', 'VB'), ('a', 'DT'), ('d', 'JJ'), ('map', 'NN'), ('of', 'IN'), ('genes', 'NNS'), ('which', 'WDT'), ('come', 'VBP'), ('in', 'IN'), ('contact', 'NN'), ('with', 'IN'), ('the', 'DT'), ('non', 'NN'), ('coding', 'VBG'), ('areas', 'NNS'), ('that', 'WDT'), ('carry', 'VBP'), ('mutations', 'NNS'), ('associated', 'VBN'), ('with', 'IN'), ('heart', 'NN'), ('diseases', 'NNS')], [('in', 'IN'), ('fact', 'NN'), ('deleting', 'VBG'), ('those', 'DT'), ('genes', 'NNS'), ('often', 'RB'), ('causes', 'VBZ'), ('heart', 'NN'), ('disorders', 'NNS'), ('in', 'IN'), ('mice', 'NN')], [('in', 'IN'), ('addition', 'NN'), ('montefiori', 'FW'), ('et', 'FW'), ('al', 'NN')], [('reveal', 'NN'), ('that', 'IN'), ('of', 'IN'), ('the', 'DT'), ('non', 'NN'), ('coding', 'VBG'), ('regions', 'NNS'), ('examined', 'VBN'), ('were', 'VBD'), ('influencing', 'VBG'), ('genes', 'NNS'), ('that', 'WDT'), ('were', 'VBD'), ('far', 'RB'), ('away', 'RB')], [('this', 'DT'), ('shows', 'VBZ'), ('that', 'IN'), ('despite', 'IN'), ('a', 'DT'), ('common', 'JJ'), ('assumption', 'NN'), ('enhancers', 'NNS'), ('often', 'RB'), ('do', 'VBP'), ('not', 'RB'), ('regulate', 'VB'), ('the', 'DT'), ('coding', 'NN'), ('sequences', 'NNS'), ('they', 'PRP'), ('are', 'VBP'), ('nearest', 'JJS'), ('to', 'TO'), ('on', 'IN'), ('the', 'DT'), ('dna', 'NN'), ('strand', 'NN')], [('pinpointing', 'VBG'), ('the', 'DT'), ('genes', 'NNS'), ('regulated', 'VBN'), ('by', 'IN'), ('the', 'DT'), ('non', 'NN'), ('coding', 'VBG'), ('regions', 'NNS'), ('involved', 'VBN'), ('in', 'IN'), ('cardiovascular', 'JJ'), ('diseases', 'NNS'), ('could', 'MD'), ('lead', 'VB'), ('to', 'TO'), ('new', 'JJ'), ('ways', 'NNS'), ('of', 'IN'), ('treating', 'VBG'), ('or', 'CC'), ('preventing', 'VBG'), ('these', 'DT'), ('conditions', 'NNS')], [('the', 'DT'), ('d', 'NN'), ('map', 'NN'), ('created', 'VBN'), ('by', 'IN'), ('montefiori', 'JJ'), ('et', 'NNS'), ('al', 'VBP')], [('may', 'MD'), ('also', 'RB'), ('help', 'VB'), ('to', 'TO'), ('visualize', 'VB'), ('how', 'WRB'), ('the', 'DT'), ('genetic', 'JJ'), ('information', 'NN'), ('is', 'VBZ'), ('organized', 'VBN'), ('in', 'IN'), ('heart', 'NN'), ('cells', 'NNS')], [('this', 'DT'), ('will', 'MD'), ('contribute', 'VB'), ('to', 'TO'), ('the', 'DT'), ('current', 'JJ'), ('effort', 'NN'), ('to', 'TO'), ('understand', 'VB'), ('the', 'DT'), ('role', 'NN'), ('of', 'IN'), ('the', 'DT'), ('d', 'NN'), ('structure', 'NN'), ('of', 'IN'), ('the', 'DT'), ('complete set of genetic instructions', 'NN'), ('especially', 'RB'), ('in', 'IN'), ('different', 'JJ'), ('cell', 'NN'), ('types', 'NNS')]]\n"
     ]
    }
   ],
   "source": [
    "print(raw)"
   ]
  },
  {
   "cell_type": "markdown",
   "id": "a9f6d38a-0fdf-474f-91a3-db072b30f7f9",
   "metadata": {},
   "source": [
    "So the goal of this code is to do a big find and replace. We create two parallel documents, one thats the \"raw\" document that contains teh article split by sentence then word, where each word is tagged with its POS. The 'lemma\" doc is split the same but instead of using words we use lemmas. This allows us to do a two part check to make sure we're inputing the right word in the right location, by matching on both the lemma and POS. This allows for more accurate tagging and avoids issues with homographs. Currently this code is designed to run on one single article. It needs to be optimized to run on some kind of data structure full of articles and maybe wrapped into a single function. the out put of that function needs to be a real readable summary, currently it spits out the separated tokenized pos tagged version. This needs to be stripped and joined."
   ]
  }
 ],
 "metadata": {
  "kernelspec": {
   "display_name": "Python 3 (ipykernel)",
   "language": "python",
   "name": "python3"
  },
  "language_info": {
   "codemirror_mode": {
    "name": "ipython",
    "version": 3
   },
   "file_extension": ".py",
   "mimetype": "text/x-python",
   "name": "python",
   "nbconvert_exporter": "python",
   "pygments_lexer": "ipython3",
   "version": "3.9.6"
  }
 },
 "nbformat": 4,
 "nbformat_minor": 5
}
