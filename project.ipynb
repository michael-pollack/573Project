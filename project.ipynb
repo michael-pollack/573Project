{
 "cells": [
  {
   "cell_type": "markdown",
   "id": "a14ad144",
   "metadata": {},
   "source": [
    "Welcome!"
   ]
  },
  {
   "cell_type": "code",
   "execution_count": 1,
   "id": "1f9f5f30",
   "metadata": {},
   "outputs": [
    {
     "name": "stdout",
     "output_type": "stream",
     "text": [
      "Defaulting to user installation because normal site-packages is not writeable\n",
      "Requirement already satisfied: nltk in /Users/rachel/Library/Python/3.9/lib/python/site-packages (from -r requirements.txt (line 1)) (3.9.1)\n",
      "Requirement already satisfied: wordcloud in /Users/rachel/Library/Python/3.9/lib/python/site-packages (from -r requirements.txt (line 2)) (1.9.4)\n",
      "Requirement already satisfied: scikit-learn in /Users/rachel/Library/Python/3.9/lib/python/site-packages (from -r requirements.txt (line 3)) (1.6.1)\n",
      "Requirement already satisfied: pandas in /Users/rachel/Library/Python/3.9/lib/python/site-packages (from -r requirements.txt (line 4)) (2.2.3)\n",
      "Requirement already satisfied: matplotlib in /Users/rachel/Library/Python/3.9/lib/python/site-packages (from -r requirements.txt (line 5)) (3.9.4)\n",
      "Requirement already satisfied: numpy in /Users/rachel/Library/Python/3.9/lib/python/site-packages (from -r requirements.txt (line 6)) (2.0.2)\n",
      "Requirement already satisfied: seaborn in /Users/rachel/Library/Python/3.9/lib/python/site-packages (from -r requirements.txt (line 7)) (0.13.2)\n",
      "Requirement already satisfied: tabulate in /Users/rachel/Library/Python/3.9/lib/python/site-packages (from -r requirements.txt (line 8)) (0.9.0)\n",
      "Requirement already satisfied: fastparquet in /Users/rachel/Library/Python/3.9/lib/python/site-packages (from -r requirements.txt (line 9)) (2024.11.0)\n",
      "Requirement already satisfied: click in /Users/rachel/Library/Python/3.9/lib/python/site-packages (from nltk->-r requirements.txt (line 1)) (8.1.8)\n",
      "Requirement already satisfied: regex>=2021.8.3 in /Users/rachel/Library/Python/3.9/lib/python/site-packages (from nltk->-r requirements.txt (line 1)) (2024.11.6)\n",
      "Requirement already satisfied: tqdm in /Users/rachel/Library/Python/3.9/lib/python/site-packages (from nltk->-r requirements.txt (line 1)) (4.67.1)\n",
      "Requirement already satisfied: joblib in /Users/rachel/Library/Python/3.9/lib/python/site-packages (from nltk->-r requirements.txt (line 1)) (1.4.2)\n",
      "Requirement already satisfied: pillow in /Users/rachel/Library/Python/3.9/lib/python/site-packages (from wordcloud->-r requirements.txt (line 2)) (11.1.0)\n",
      "Requirement already satisfied: scipy>=1.6.0 in /Users/rachel/Library/Python/3.9/lib/python/site-packages (from scikit-learn->-r requirements.txt (line 3)) (1.13.1)\n",
      "Requirement already satisfied: threadpoolctl>=3.1.0 in /Users/rachel/Library/Python/3.9/lib/python/site-packages (from scikit-learn->-r requirements.txt (line 3)) (3.6.0)\n",
      "Requirement already satisfied: tzdata>=2022.7 in /Users/rachel/Library/Python/3.9/lib/python/site-packages (from pandas->-r requirements.txt (line 4)) (2025.2)\n",
      "Requirement already satisfied: python-dateutil>=2.8.2 in /Users/rachel/Library/Python/3.9/lib/python/site-packages (from pandas->-r requirements.txt (line 4)) (2.8.2)\n",
      "Requirement already satisfied: pytz>=2020.1 in /Users/rachel/Library/Python/3.9/lib/python/site-packages (from pandas->-r requirements.txt (line 4)) (2025.2)\n",
      "Requirement already satisfied: fonttools>=4.22.0 in /Users/rachel/Library/Python/3.9/lib/python/site-packages (from matplotlib->-r requirements.txt (line 5)) (4.57.0)\n",
      "Requirement already satisfied: contourpy>=1.0.1 in /Users/rachel/Library/Python/3.9/lib/python/site-packages (from matplotlib->-r requirements.txt (line 5)) (1.3.0)\n",
      "Requirement already satisfied: cycler>=0.10 in /Users/rachel/Library/Python/3.9/lib/python/site-packages (from matplotlib->-r requirements.txt (line 5)) (0.12.1)\n",
      "Requirement already satisfied: kiwisolver>=1.3.1 in /Users/rachel/Library/Python/3.9/lib/python/site-packages (from matplotlib->-r requirements.txt (line 5)) (1.4.7)\n",
      "Requirement already satisfied: pyparsing>=2.3.1 in /Users/rachel/Library/Python/3.9/lib/python/site-packages (from matplotlib->-r requirements.txt (line 5)) (3.2.3)\n",
      "Requirement already satisfied: packaging>=20.0 in /Users/rachel/Library/Python/3.9/lib/python/site-packages (from matplotlib->-r requirements.txt (line 5)) (23.2)\n",
      "Requirement already satisfied: importlib-resources>=3.2.0 in /Users/rachel/Library/Python/3.9/lib/python/site-packages (from matplotlib->-r requirements.txt (line 5)) (6.5.2)\n",
      "Requirement already satisfied: fsspec in /Users/rachel/Library/Python/3.9/lib/python/site-packages (from fastparquet->-r requirements.txt (line 9)) (2025.3.2)\n",
      "Requirement already satisfied: cramjam>=2.3 in /Users/rachel/Library/Python/3.9/lib/python/site-packages (from fastparquet->-r requirements.txt (line 9)) (2.9.1)\n",
      "Requirement already satisfied: zipp>=3.1.0 in /Users/rachel/Library/Python/3.9/lib/python/site-packages (from importlib-resources>=3.2.0->matplotlib->-r requirements.txt (line 5)) (3.17.0)\n",
      "Requirement already satisfied: six>=1.5 in /Applications/Xcode.app/Contents/Developer/Library/Frameworks/Python3.framework/Versions/3.9/lib/python3.9/site-packages (from python-dateutil>=2.8.2->pandas->-r requirements.txt (line 4)) (1.15.0)\n",
      "\u001b[33mWARNING: You are using pip version 21.2.4; however, version 25.0.1 is available.\n",
      "You should consider upgrading via the '/Applications/Xcode.app/Contents/Developer/usr/bin/python3 -m pip install --upgrade pip' command.\u001b[0m\n",
      "Note: you may need to restart the kernel to use updated packages.\n"
     ]
    }
   ],
   "source": [
    "%pip install -r requirements.txt\n",
    "#pip installs a list of libraries\n",
    "#list can be found in requirements.txt\n",
    "\n",
    "#important import names\n",
    "#import pandas as pd\n",
    "#import matplotlib.pyplot as plt\n",
    "#import numpy as np\n",
    "#import seaborn as sns"
   ]
  },
  {
   "cell_type": "code",
   "execution_count": 2,
   "id": "b27b53ad",
   "metadata": {},
   "outputs": [
    {
     "name": "stderr",
     "output_type": "stream",
     "text": [
      "[nltk_data] Downloading package punkt_tab to\n",
      "[nltk_data]     /Users/rachel/nltk_data...\n",
      "[nltk_data]   Package punkt_tab is already up-to-date!\n",
      "[nltk_data] Downloading package tagsets to /Users/rachel/nltk_data...\n",
      "[nltk_data]   Package tagsets is already up-to-date!\n",
      "[nltk_data] Downloading package stopwords to\n",
      "[nltk_data]     /Users/rachel/nltk_data...\n",
      "[nltk_data]   Package stopwords is already up-to-date!\n",
      "[nltk_data] Downloading package averaged_perceptron_tagger_eng to\n",
      "[nltk_data]     /Users/rachel/nltk_data...\n",
      "[nltk_data]   Package averaged_perceptron_tagger_eng is already up-to-\n",
      "[nltk_data]       date!\n",
      "[nltk_data] Downloading package wordnet to /Users/rachel/nltk_data...\n",
      "[nltk_data]   Package wordnet is already up-to-date!\n",
      "/Users/rachel/Library/Python/3.9/lib/python/site-packages/urllib3/__init__.py:34: NotOpenSSLWarning: urllib3 v2 only supports OpenSSL 1.1.1+, currently the 'ssl' module is compiled with 'LibreSSL 2.8.3'. See: https://github.com/urllib3/urllib3/issues/3020\n",
      "  warnings.warn(\n"
     ]
    }
   ],
   "source": [
    "#import statements til I figure out the other way \n",
    "import nltk\n",
    "from nltk.classify.scikitlearn import SklearnClassifier\n",
    "from nltk.classify import ClassifierI\n",
    "nltk.download('punkt_tab')\n",
    "nltk.download('tagsets')\n",
    "nltk.download('stopwords')\n",
    "from nltk.corpus import stopwords\n",
    "nltk.download('averaged_perceptron_tagger_eng')\n",
    "nltk.download('wordnet')\n",
    "from nltk import pos_tag\n",
    "from nltk.stem import WordNetLemmatizer, PorterStemmer\n",
    "from nltk.tokenize import regexp_tokenize, word_tokenize, RegexpTokenizer\n",
    "\n",
    "import random\n",
    "\n",
    "import pandas as pd\n",
    "\n",
    "from sklearn.naive_bayes import MultinomialNB,BernoulliNB\n",
    "from sklearn.linear_model import LogisticRegression, SGDClassifier\n",
    "from sklearn.feature_extraction.text import TfidfVectorizer\n",
    "from sklearn.ensemble import StackingRegressor\n",
    "from sklearn.metrics import accuracy_score, precision_score, confusion_matrix, ConfusionMatrixDisplay\n",
    "from sklearn.neighbors import KNeighborsClassifier\n",
    "from sklearn.tree import DecisionTreeClassifier\n",
    "from sklearn.ensemble import RandomForestClassifier\n",
    "from sklearn.pipeline import Pipeline\n",
    "from sklearn.model_selection import train_test_split, cross_val_score, cross_validate, GridSearchCV, RandomizedSearchCV\n",
    "from sklearn import metrics\n",
    "\n",
    "import json\n",
    "\n",
    "import csv\n",
    "\n",
    "import matplotlib.pyplot as plt\n",
    "\n",
    "import numpy as np\n",
    "\n",
    "import seaborn as sns\n",
    "\n",
    "from wordcloud import WordCloud, STOPWORDS, ImageColorGenerator\n",
    "\n",
    "from tabulate import tabulate\n",
    "\n",
    "import requests\n"
   ]
  },
  {
   "cell_type": "code",
   "execution_count": 3,
   "id": "e2fe9e98",
   "metadata": {},
   "outputs": [],
   "source": [
    "#import sys\n",
    "#sys.path.append('.')\n",
    "#from importables import *\n",
    "#grabs all imports from import.py\n",
    "\n",
    "#This is not working but it should be >>>:(\n"
   ]
  },
  {
   "cell_type": "code",
   "execution_count": 4,
   "id": "6378ac57",
   "metadata": {},
   "outputs": [
    {
     "data": {
      "text/html": [
       "<div>\n",
       "<style scoped>\n",
       "    .dataframe tbody tr th:only-of-type {\n",
       "        vertical-align: middle;\n",
       "    }\n",
       "\n",
       "    .dataframe tbody tr th {\n",
       "        vertical-align: top;\n",
       "    }\n",
       "\n",
       "    .dataframe thead th {\n",
       "        text-align: right;\n",
       "    }\n",
       "</style>\n",
       "<table border=\"1\" class=\"dataframe\">\n",
       "  <thead>\n",
       "    <tr style=\"text-align: right;\">\n",
       "      <th></th>\n",
       "      <th>article</th>\n",
       "      <th>summary</th>\n",
       "      <th>section_headings</th>\n",
       "      <th>keywords</th>\n",
       "      <th>year</th>\n",
       "      <th>title</th>\n",
       "    </tr>\n",
       "  </thead>\n",
       "  <tbody>\n",
       "    <tr>\n",
       "      <th>0</th>\n",
       "      <td>Cell-fate reprograming is at the heart of deve...</td>\n",
       "      <td>The DNA in genes encodes the basic information...</td>\n",
       "      <td>[Abstract, Introduction, Results, Discussion, ...</td>\n",
       "      <td>[developmental, biology]</td>\n",
       "      <td>2016</td>\n",
       "      <td>Increasing Notch signaling antagonizes PRC2-me...</td>\n",
       "    </tr>\n",
       "    <tr>\n",
       "      <th>1</th>\n",
       "      <td>Klebsiella pneumoniae is a respiratory , blood...</td>\n",
       "      <td>Klebsiella pneumoniae is a type of bacteria th...</td>\n",
       "      <td>[Abstract, Introduction, Results, Discussion, ...</td>\n",
       "      <td>[microbiology, and, infectious, disease, immun...</td>\n",
       "      <td>2020</td>\n",
       "      <td>SKAP2 is required for defense against K. pneum...</td>\n",
       "    </tr>\n",
       "    <tr>\n",
       "      <th>2</th>\n",
       "      <td>Plasmodium vivax relapse infections occur foll...</td>\n",
       "      <td>Malaria is one of the world's most deadly infe...</td>\n",
       "      <td>[Abstract, Introduction, Results, Discussion, ...</td>\n",
       "      <td>[epidemiology, and, global, health]</td>\n",
       "      <td>2014</td>\n",
       "      <td>Modelling the contribution of the hypnozoite r...</td>\n",
       "    </tr>\n",
       "    <tr>\n",
       "      <th>3</th>\n",
       "      <td>When 2 Mha of Amazonian forests are disturbed ...</td>\n",
       "      <td>The Amazon rainforest in South America is the ...</td>\n",
       "      <td>[Abstract, Introduction, Results, Discussion, ...</td>\n",
       "      <td>[ecology]</td>\n",
       "      <td>2016</td>\n",
       "      <td>Carbon recovery dynamics following disturbance...</td>\n",
       "    </tr>\n",
       "    <tr>\n",
       "      <th>4</th>\n",
       "      <td>Neurosphere formation is commonly used as a su...</td>\n",
       "      <td>Neurons that arise in the adult nervous system...</td>\n",
       "      <td>[Abstract, Introduction, Results, Discussion, ...</td>\n",
       "      <td>[stem, cells, and, regenerative, medicine]</td>\n",
       "      <td>2014</td>\n",
       "      <td>Prospective identification of functionally dis...</td>\n",
       "    </tr>\n",
       "  </tbody>\n",
       "</table>\n",
       "</div>"
      ],
      "text/plain": [
       "                                             article  \\\n",
       "0  Cell-fate reprograming is at the heart of deve...   \n",
       "1  Klebsiella pneumoniae is a respiratory , blood...   \n",
       "2  Plasmodium vivax relapse infections occur foll...   \n",
       "3  When 2 Mha of Amazonian forests are disturbed ...   \n",
       "4  Neurosphere formation is commonly used as a su...   \n",
       "\n",
       "                                             summary  \\\n",
       "0  The DNA in genes encodes the basic information...   \n",
       "1  Klebsiella pneumoniae is a type of bacteria th...   \n",
       "2  Malaria is one of the world's most deadly infe...   \n",
       "3  The Amazon rainforest in South America is the ...   \n",
       "4  Neurons that arise in the adult nervous system...   \n",
       "\n",
       "                                    section_headings  \\\n",
       "0  [Abstract, Introduction, Results, Discussion, ...   \n",
       "1  [Abstract, Introduction, Results, Discussion, ...   \n",
       "2  [Abstract, Introduction, Results, Discussion, ...   \n",
       "3  [Abstract, Introduction, Results, Discussion, ...   \n",
       "4  [Abstract, Introduction, Results, Discussion, ...   \n",
       "\n",
       "                                            keywords  year  \\\n",
       "0                           [developmental, biology]  2016   \n",
       "1  [microbiology, and, infectious, disease, immun...  2020   \n",
       "2                [epidemiology, and, global, health]  2014   \n",
       "3                                          [ecology]  2016   \n",
       "4         [stem, cells, and, regenerative, medicine]  2014   \n",
       "\n",
       "                                               title  \n",
       "0  Increasing Notch signaling antagonizes PRC2-me...  \n",
       "1  SKAP2 is required for defense against K. pneum...  \n",
       "2  Modelling the contribution of the hypnozoite r...  \n",
       "3  Carbon recovery dynamics following disturbance...  \n",
       "4  Prospective identification of functionally dis...  "
      ]
     },
     "execution_count": 4,
     "metadata": {},
     "output_type": "execute_result"
    }
   ],
   "source": [
    "df_elife_train = pd.read_parquet('data/Elife/train-00000-of-00001.parquet')\n",
    "df_elife_test = pd.read_parquet('data/Elife/test-00000-of-00001.parquet')\n",
    "df_elife_validation = pd.read_parquet('data/Elife/validation-00000-of-00001.parquet')\n",
    "df_elife_validation.head(5)"
   ]
  },
  {
   "cell_type": "code",
   "execution_count": 5,
   "id": "8228a24e",
   "metadata": {},
   "outputs": [
    {
     "data": {
      "text/html": [
       "<div>\n",
       "<style scoped>\n",
       "    .dataframe tbody tr th:only-of-type {\n",
       "        vertical-align: middle;\n",
       "    }\n",
       "\n",
       "    .dataframe tbody tr th {\n",
       "        vertical-align: top;\n",
       "    }\n",
       "\n",
       "    .dataframe thead th {\n",
       "        text-align: right;\n",
       "    }\n",
       "</style>\n",
       "<table border=\"1\" class=\"dataframe\">\n",
       "  <thead>\n",
       "    <tr style=\"text-align: right;\">\n",
       "      <th></th>\n",
       "      <th>article</th>\n",
       "      <th>summary</th>\n",
       "      <th>section_headings</th>\n",
       "      <th>keywords</th>\n",
       "      <th>year</th>\n",
       "      <th>title</th>\n",
       "    </tr>\n",
       "  </thead>\n",
       "  <tbody>\n",
       "    <tr>\n",
       "      <th>0</th>\n",
       "      <td>Cellular heterogeneity hinders the extraction ...</td>\n",
       "      <td>The mammalian inner ear is a highly complex se...</td>\n",
       "      <td>[Abstract, Introduction, Results, Discussion, ...</td>\n",
       "      <td>[genetics, of, disease, genome, expression, an...</td>\n",
       "      <td>2011</td>\n",
       "      <td>Cell Type–Specific Transcriptome Analysis Reve...</td>\n",
       "    </tr>\n",
       "    <tr>\n",
       "      <th>1</th>\n",
       "      <td>MBT domain proteins are involved in developmen...</td>\n",
       "      <td>Post-translational modifications ( PTM ) of hi...</td>\n",
       "      <td>[Abstract, Introduction, Results, Discussion, ...</td>\n",
       "      <td>[genetic, mutation, protein, interactions, his...</td>\n",
       "      <td>2011</td>\n",
       "      <td>H3K9me2/3 Binding of the MBT Domain Protein LI...</td>\n",
       "    </tr>\n",
       "    <tr>\n",
       "      <th>2</th>\n",
       "      <td>Melioidosis is a problem in the developing tro...</td>\n",
       "      <td>Melioidosis is a problem in the developing tro...</td>\n",
       "      <td>[Abstract, Introduction, Materials, and, Metho...</td>\n",
       "      <td>[public, and, occupational, health, infectious...</td>\n",
       "      <td>2014</td>\n",
       "      <td>Sulphonylurea Usage in Melioidosis Is Associat...</td>\n",
       "    </tr>\n",
       "    <tr>\n",
       "      <th>3</th>\n",
       "      <td>The recent origin and great evolutionary poten...</td>\n",
       "      <td>The AIDS epidemic claims more lives per year t...</td>\n",
       "      <td>[Abstract, Introduction, Results, Discussion, ...</td>\n",
       "      <td>[public, health, and, epidemiology/infectious,...</td>\n",
       "      <td>2009</td>\n",
       "      <td>Increasing Clinical Virulence in Two Decades o...</td>\n",
       "    </tr>\n",
       "    <tr>\n",
       "      <th>4</th>\n",
       "      <td>Invariant representations of stimulus features...</td>\n",
       "      <td>When we physically interact with an object , o...</td>\n",
       "      <td>[Abstract, Introduction, Results/Discussion, M...</td>\n",
       "      <td>[physiology/sensory, systems, neuroscience/sen...</td>\n",
       "      <td>2010</td>\n",
       "      <td>Shape Invariant Coding of Motion Direction in ...</td>\n",
       "    </tr>\n",
       "  </tbody>\n",
       "</table>\n",
       "</div>"
      ],
      "text/plain": [
       "                                             article  \\\n",
       "0  Cellular heterogeneity hinders the extraction ...   \n",
       "1  MBT domain proteins are involved in developmen...   \n",
       "2  Melioidosis is a problem in the developing tro...   \n",
       "3  The recent origin and great evolutionary poten...   \n",
       "4  Invariant representations of stimulus features...   \n",
       "\n",
       "                                             summary  \\\n",
       "0  The mammalian inner ear is a highly complex se...   \n",
       "1  Post-translational modifications ( PTM ) of hi...   \n",
       "2  Melioidosis is a problem in the developing tro...   \n",
       "3  The AIDS epidemic claims more lives per year t...   \n",
       "4  When we physically interact with an object , o...   \n",
       "\n",
       "                                    section_headings  \\\n",
       "0  [Abstract, Introduction, Results, Discussion, ...   \n",
       "1  [Abstract, Introduction, Results, Discussion, ...   \n",
       "2  [Abstract, Introduction, Materials, and, Metho...   \n",
       "3  [Abstract, Introduction, Results, Discussion, ...   \n",
       "4  [Abstract, Introduction, Results/Discussion, M...   \n",
       "\n",
       "                                            keywords  year  \\\n",
       "0  [genetics, of, disease, genome, expression, an...  2011   \n",
       "1  [genetic, mutation, protein, interactions, his...  2011   \n",
       "2  [public, and, occupational, health, infectious...  2014   \n",
       "3  [public, health, and, epidemiology/infectious,...  2009   \n",
       "4  [physiology/sensory, systems, neuroscience/sen...  2010   \n",
       "\n",
       "                                               title  \n",
       "0  Cell Type–Specific Transcriptome Analysis Reve...  \n",
       "1  H3K9me2/3 Binding of the MBT Domain Protein LI...  \n",
       "2  Sulphonylurea Usage in Melioidosis Is Associat...  \n",
       "3  Increasing Clinical Virulence in Two Decades o...  \n",
       "4  Shape Invariant Coding of Motion Direction in ...  "
      ]
     },
     "execution_count": 5,
     "metadata": {},
     "output_type": "execute_result"
    }
   ],
   "source": [
    "df_plos_train_1 = pd.read_parquet('data/PLOS/train-00000-of-00003.parquet')\n",
    "df_plos_train_2 = pd.read_parquet('data/PLOS/train-00001-of-00003.parquet')\n",
    "df_plos_train_3 = pd.read_parquet('data/PLOS/train-00002-of-00003.parquet')\n",
    "df_plos_test = pd.read_parquet('data/PLOS/test-00000-of-00001.parquet')\n",
    "df_plos_validation = pd.read_parquet('data/PLOS/validation-00000-of-00001.parquet')\n",
    "df_plos_train_3.head(5)\n"
   ]
  },
  {
   "cell_type": "code",
   "execution_count": 6,
   "id": "37571c87-80d4-4917-bdb3-b41a953a78ed",
   "metadata": {},
   "outputs": [],
   "source": [
    "def get_wordnet_pos(treebank_tag):\n",
    "    '''\n",
    "    Translate nltk POS to wordnet tags\n",
    "    '''\n",
    "    if treebank_tag.startswith('J'):\n",
    "        return wordnet.ADJ\n",
    "    elif treebank_tag.startswith('V'):\n",
    "        return wordnet.VERB\n",
    "    elif treebank_tag.startswith('N'):\n",
    "        return wordnet.NOUN\n",
    "    elif treebank_tag.startswith('R'):\n",
    "        return wordnet.ADV\n",
    "    else:\n",
    "        return wordnet.NOUN"
   ]
  },
  {
   "cell_type": "code",
   "execution_count": 7,
   "id": "ae45cd62-790b-498e-936f-700e205bfbc9",
   "metadata": {},
   "outputs": [],
   "source": [
    "def data_cleaner(doc):\n",
    "    \"\"\"A function to strip punctuation, strip stopwords, casefold, lemmatize,\n",
    "    And part of speech tag words for clean data for modeling\"\"\"\n",
    "    \n",
    "    sw = stopwords.words('english')\n",
    "    regex_token = RegexpTokenizer(r\"([a-zA-Z]+(?:’[a-z]+)?)\")\n",
    "    doc = regex_token.tokenize(doc)\n",
    "    doc = [word.lower() for word in doc]\n",
    "    doc = [word for word in doc if word not in sw]\n",
    "    #print(doc)\n",
    "    doc = pos_tag(doc)\n",
    "    doc = [(word[0], get_wordnet_pos(word[1])) for word in doc]\n",
    "    #print(doc)\n",
    "    lemmatizer = WordNetLemmatizer() \n",
    "    doc = [lemmatizer.lemmatize(word[0], word[1]) for word in doc]\n",
    "    #print(' '.join(doc))\n",
    "    return ' '.join(doc)"
   ]
  },
  {
   "cell_type": "code",
   "execution_count": 8,
   "id": "539c35da-eb1a-450b-9645-8a9b2b64a820",
   "metadata": {},
   "outputs": [
    {
     "name": "stdout",
     "output_type": "stream",
     "text": [
      "4346\n"
     ]
    }
   ],
   "source": [
    "#listifies contents in articl column\n",
    "articles_list = df_elife_train.article.tolist()\n",
    "print(len(articles_list))"
   ]
  },
  {
   "cell_type": "code",
   "execution_count": 9,
   "id": "509de2b3-ec02-40cb-8eb4-64608f79234c",
   "metadata": {},
   "outputs": [
    {
     "name": "stdout",
     "output_type": "stream",
     "text": [
      "In temperate climates , winter deaths exceed summer ones . However , there is limited information on the timing and the relative magnitudes of maximum and minimum mortality , by local climate , age group , sex and medical cause of death . We used geo-coded mortality data and wavelets to analyse the seasonality of mortality by age group and sex from 1980 to 2016 in the USA and its subnational climatic regions . Death rates in men and women ≥ 45 years peaked in December to February and were lowest in June to August , driven by cardiorespiratory diseases and injuries . In these ages , percent difference in death rates between peak and minimum months did not vary across climate regions , nor changed from 1980 to 2016 . Under five years , seasonality of all-cause mortality largely disappeared after the 1990s . In adolescents and young adults , especially in males , death rates peaked in June/July and were lowest in December/January , driven by injury deaths .\n",
      "It is well-established that death rates vary throughout the year , and in temperate climates there tend to be more deaths in winter than in summer ( Campbell , 2017; Fowler et al . , 2015; Healy , 2003; McKee , 1989 ) . It has therefore been hypothesized that a warmer world may lower winter mortality in temperate climates ( Langford and Bentham , 1995; Martens , 1998 ) . In a large country like the USA , which possesses distinct climate regions , the seasonality of mortality may vary geographically , due to geographical variations in mortality , localized weather patterns , and regional differences in adaptation measures such as heating , air conditioning and healthcare ( Davis et al . , 2004; Braga et al . , 2001; Kalkstein , 2013; Medina-Ramón and Schwartz , 2007 ) . The presence and extent of seasonal variation in mortality may also itself change over time ( Bobb et al . , 2014; Carson et al . , 2006; Seretakis et al . , 1997; Sheridan et al . , 2009 ) . A thorough understanding of the long-term dynamics of seasonality of mortality , and its geographical and demographic patterns , is needed to identify at-risk groups , plan responses at the present time as well as under changing climate conditions . Although mortality seasonality is well-established , there is limited information on how seasonality , including the timing of minimum and maximum mortality , varies by local climate and how these features have changed over time , especially in relation to age group , sex and medical cause of death ( Rau , 2004; Rau et al . , 2018 ) . In this paper , we comprehensively characterize the spatial and temporal patterns of all-cause and cause-specific mortality seasonality in the USA by sex and age group , through the application of wavelet analytical techniques , to over three decades of national mortality data . Wavelets have been used to study the dynamics of weather phenomena ( Moy et al . , 2002 ) and infectious diseases ( Grenfell et al . , 2001 ) . We also used centre of gravity analysis and circular statistics methods to understand the timing of maximum and minimum mortality . In addition , we identify how the percentage difference between death rates in maximum and minimum mortality months has changed over time .\n",
      "The strengths of our study are its innovative methods of characterizing seasonality of mortality dynamically over space and time , by age group and cause of death; using wavelet and centre of gravity analyses; using ERA-Interim data output to compare the association between seasonality of death rates and regional temperature . A limitation of our study is that we did not investigate seasonality of mortality by socioeconomic characteristics which may help with understanding its determinants and planning responses .\n",
      "We used wavelet and centre of gravity analyses , which allowed systematically identifying and characterizing seasonality of total and cause-specific mortality in the USA , and examining how seasonality has changed over time . We identified distinct seasonal patterns in relation to age and sex , including higher all-cause summer mortality in young men ( Feinstein , 2002; Rau et al . , 2018 ) . Importantly , we also showed that all-cause and cause-specific mortality seasonality is largely similar in terms of both timing and magnitude across diverse climatic regions with substantially different summer and winter temperatures . Insights of this kind would not have been possible analysing data averaged over time or nationally , or fixed to pre-specified frequencies . Prior studies have noted seasonality of mortality for all-cause mortality and for specific causes of death in the USA ( Feinstein , 2002; Kalkstein , 2013; Rau , 2004; Rau et al . , 2018; Rosenwaike , 1966; Seretakis et al . , 1997 ) . Few of these studies have done consistent national and subnational analyses , and none has done so over time , for a comprehensive set of age groups and causes of death , and in relation to regional temperature differences . Our results on strong seasonality of cardiorespiratory diseases deaths and weak seasonality of cancer deaths , restricted to older ages , are broadly consistent with these studies ( Feinstein , 2002; Rau et al . , 2018; Rosenwaike , 1966; Seretakis et al . , 1997 ) , which had limited analysis on how seasonality changes over time and geography ( Feinstein , 2002; Rau et al . , 2018; Rosenwaike , 1966 ) . Similarly , our results on seasonality of injury deaths are supported by a few prior studies ( Feinstein , 2002; Rau et al . , 2018; Rosenwaike , 1966 ) , but our subnational analysis over three decades revealed variations in when injury deaths peaked and in how seasonal differences in these deaths have changed over time in relation to age group which had not been reported before . A study of 36 cities in the USA , aggregated across age groups and over time , also found that excess mortality was not associated with seasonal temperature range ( Kinney et al . , 2015 ) . In contrast , a European study found that the difference between winter and summer mortality was lower in colder Nordic countries than in warmer southern European nations ( Healy , 2003; McKee , 1989 ) ( the study’s measure of temperature was mean annual temperature which differed from the temperature difference between maximum and minimum mortality used in our analysis although the two measures are correlated ) . The absence of variation in the magnitude of mortality seasonality indicates that different regions in the USA are similarly adapted to temperature seasonality , whereas Nordic countries may have better environmental ( e . g . housing insulation and heating ) and health system measures to counter the effects of cold winters than those in southern Europe . If the observed absence of association between the magnitude of mortality seasonality and seasonal temperature difference across the climate regions also persists over time , the changes in temperature as a result of global climate change are unlikely to affect the winter-summer mortality difference . The cause-specific analysis showed that the substantial decline in seasonal mortality differences in adolescents and young adults was related to the diminishing seasonality of ( unintentional ) injuries , especially from road traffic crashes , which are more likely to occur in the summer months ( Liu et al . , 2005 ) and are more common in men . The weakening of seasonality in boys under five years of age was related to two phenomena: first , the seasonality of death from cardiorespiratory diseases declined , and second , the proportion of deaths from perinatal conditions , which exhibit limited seasonality ( Figure 9—figure supplement 2 and Figure 10—figure supplement 3 ) , increased ( MacDorman and Gregory , 2015 ) . In contrast to young and middle ages , mortality in older ages , where death rates are highest , maintained persistent seasonality over a period of three decades ( we note that although the percent seasonal difference in mortality has remained largely unchanged in these ages , the absolute difference in death rates between the peak and minimum months has declined because total mortality has a declining long-term trend ) . This finding demonstrates the need for environmental and health service interventions targeted towards this group irrespective of geography and local climate . Examples of such interventions include enhancing the availability of both environmental and medical protective factors , such as better insulation of homes , winter heating provision and flu vaccinations , for the vulnerable older population ( Katiyo et al . , 2017 ) . Social interventions , including regular visits to the isolated elderly during peak mortality periods to ensure that they are optimally prepared for adverse conditions , and responsive and high-quality emergency care , are also important to protect this vulnerable group ( Healy , 2003; Lerchl , 1998; Katiyo et al . , 2017 ) . Emergent new technologies , such as always-connected hands-free communications devices with the outside world , in-house cameras , and personal sensors also provide an opportunity to enhance care for the older , more vulnerable groups in the population , especially in winter when the elderly have fewer social interactions ( Morris , 2013 ) . Such interventions are important today , and will remain so as the population ages and climate change increases the within- and between-season weather variability .\n",
      "We used data on all 85 , 854 , 176 deaths in the USA from 1980 to 2016 from the National Center for Health Statistics ( NCHS ) . Age , sex , state of residence , month of death , and underlying cause of death were available for each record . The underlying cause of death was coded according to the international classification of diseases ( ICD ) system ( 9th revision of ICD from 1980 to 1998 and 10th revision of ICD thereafter ) . Yearly population counts were available from NCHS for 1990 to 2016 and from the US Census Bureau prior to 1990 ( Ingram et al . , 2003 ) . We calculated monthly population counts through linear interpolation , assigning each yearly count to July . We also subdivided the national data geographically into nine climate regions used by the National Oceanic and Atmospheric Administration ( Figure 18 and Table 2 ) ( Karl and Koss , 1984 ) . On average , the Southeast and South are the hottest climate regions with average annual temperatures of 18 . 4°C and 18°C respectively; the South also possesses the highest average maximum monthly temperature ( 27 . 9°C in July ) . The lowest variation in temperature throughout the year is that of the Southeast ( an average range of 17 . 5°C ) . The three coldest climate regions are West North Central , East North Central and the Northwest ( 7 . 6°C , 8 . 0°C , 8 . 2°C respectively ) . Mirroring the characteristics of the hottest climate regions , the largest variation in temperature throughout the year is that of the coldest region , West North Central ( an average range of 30 . 5°C ) , which also has the lowest average minimum monthly temperature ( −6 . 5°C in January ) . The other climate regions , Northeast , Southwest , and Central , possess similar average temperatures ( 10°C to 14°C ) and variation within the year of ( 23°C to 26°C ) , with the Northeast being the most populous region in the United States ( with 19 . 8% total population in 2016 ) . Data were divided by sex and age in the following 10 age groups: 0–4 , 5–14 , 15-24 , 25–34 , 35–44 , 45–54 , 55–64 , 65–74 , 75–84 , 85+ years . We calculated monthly death rates for each age and sex group , both nationally and for sub-national climate regions . Death rate calculations accounted for varying length of months , by multiplying each month’s death count by a factor that would make it equivalent to a 31 day month . For analysis of seasonality by cause of death , we mapped each ICD-9 and ICD-10 codes to four main disease categories ( Table 1 ) and to a number of subcategories which are presented in the Supplementary Note . Cardiorespiratory diseases and cancers accounted for 56 . 4% and 21 . 2% of all deaths in the USA , respectively , in 1980 , and 40 . 3% and 22 . 4% , respectively , in 2016 . Deaths from cardiorespiratory diseases have been associated with cold and warm temperatures ( Basu , 2009; Basu and Samet , 2002; Bennett et al . , 2014; Braga et al . , 2002; Gasparrini et al . , 2015 ) . Injuries , which accounted for 8% of all deaths in the USA in 1980 and 7 . 3% in 2016 , may have seasonality that is distinct from so-called natural causes . We did not further divide other causes because the number of deaths could become too small to allow stable estimates when divided by age group , sex and climate region . We obtained data on temperature from ERA-Interim , which combines predictions from a physical model with ground-based and satellite measurements ( Dee et al . , 2011 ) . We used gridded four-times-daily estimates at a resolution of 80 km to generate monthly population-weighted temperature by climate region throughout the analysis period . We used wavelet analysis to investigate seasonality for each age-sex group . Wavelet analysis uncovers the presence , and frequency , of repeated maxima and minima in each age-sex-specific death rate time series ( Hubbard , 1998; Torrence and Compo , 1998 ) . In brief , a Morlet wavelet , described in detail elsewhere ( Cazelles et al . , 2008 ) , is equivalent to using a moving window on the death rate time series and analysing periodicity in each window using a short-form Fourier transform , hence generating a dynamic spectral analysis , which allows measuring dynamic seasonal patterns , in which the periodicity of death rates may disappear , emerge , or change over time . In addition to coefficients that measure the frequency of periodicity , wavelet analysis estimates the probability of whether the data are different from the null situation of random fluctuations that can be represented with white ( an independent random process ) or red ( autoregressive of order one process ) noise . For each age-sex group , we calculated the p-values of the presence of 12 month seasonality for the comparison of wavelet power spectra of the entire study period ( 1980–2016 ) with 100 simulations against a white noise spectrum , which represents random fluctuations . We used the R package WaveletComp ( version 1 . 0 ) for the wavelet analysis . Before analysis , we de-trended death rates using a polynomial regression , and rescaled each death rate time series so as to range between 1 and −1 . To identify the months of maximum and minimum death rates , we calculated the centre of gravity and the negative centre of gravity of monthly death rates . Centre of gravity was calculated as a weighted average of months of deaths , with each month weighted by its death rate; negative centre of gravity was also calculated as a weighted average of months of deaths , but with each month was weighted by the difference between its death rate and the year’s maximum death rate . In taking the weighted average , we allowed December ( month 12 ) to neighbour January ( month 1 ) , representing each month by an angle subtended from 12 equally-spaced points around a unit circle . Using a technique called circular statistics , a mean ( θ- ) of the angles ( θ1 , θ2 , θ3… , θn , ) representing the deaths ( with n the total number of deaths in an age-sex group for a particular cause of death ) is found using the relation below:θ-=arg∑j=1nexp⁡ ( iθj ) , where arg denotes the complex number argument and θj denotes the month of death in angular form for a particular death j . The outcome of this calculation is then converted back into a month value ( Fisher , 1995 ) . Along with each circular mean , a 95% confidence interval ( CI ) was calculated by using 1000 bootstrap samples . The R package CircStats ( version 0 . 2 . 4 ) was used for this analysis . For each age-sex group and cause of death , and for each year , we calculated the percent difference in death rates between the maximum and minimum mortality months . We fitted a linear regression to the time series of seasonal differences from 1980 to 2016 , and used the fitted trend line to estimate how much the percentage difference in death rates between the maximum and minimum mortality months had changed from 1980 to 2016 . We weighted seasonal difference by the inverse of the square of its standard error , which was calculated using a Poisson model to take population size of each age-sex group through time into account . This method gives us a p-value for the change in seasonal difference per year , which we used to calculate the seasonal difference at the start ( 1980 ) and end ( 2016 ) of the period of study . Our method of analysing seasonal differences avoids assuming that any specific month or group of months represent highest and lowest number of deaths for a particular cause of death , which is the approach taken by the traditional measure of Excess Winter Deaths . It also allows the maximum and minimum mortality months to vary by age group , sex and cause of death .\n"
     ]
    }
   ],
   "source": [
    "print(articles_list[0])"
   ]
  },
  {
   "cell_type": "code",
   "execution_count": 10,
   "id": "f9cf24d2-5a82-4380-8ce5-c546ef5616bd",
   "metadata": {},
   "outputs": [
    {
     "name": "stdout",
     "output_type": "stream",
     "text": [
      "['In', 'temperate', 'climates', ',', 'winter', 'deaths', 'exceed', 'summer', 'ones', '.', 'However', ',', 'there', 'is', 'limited', 'information', 'on', 'the', 'timing', 'and', 'the', 'relative', 'magnitudes', 'of', 'maximum', 'and', 'minimum', 'mortality', ',', 'by', 'local', 'climate', ',', 'age', 'group', ',', 'sex', 'and', 'medical', 'cause', 'of', 'death', '.', 'We', 'used', 'geo-coded', 'mortality', 'data', 'and', 'wavelets', 'to', 'analyse', 'the', 'seasonality', 'of', 'mortality', 'by', 'age', 'group', 'and', 'sex', 'from', '1980', 'to', '2016', 'in', 'the', 'USA', 'and', 'its', 'subnational', 'climatic', 'regions', '.', 'Death', 'rates', 'in', 'men', 'and', 'women', '≥', '45', 'years', 'peaked', 'in', 'December', 'to', 'February', 'and', 'were', 'lowest', 'in', 'June', 'to', 'August', ',', 'driven', 'by', 'cardiorespiratory', 'diseases', 'and', 'injuries', '.', 'In', 'these', 'ages', ',', 'percent', 'difference', 'in', 'death', 'rates', 'between', 'peak', 'and', 'minimum', 'months', 'did', 'not', 'vary', 'across', 'climate', 'regions', ',', 'nor', 'changed', 'from', '1980', 'to', '2016', '.', 'Under', 'five', 'years', ',', 'seasonality', 'of', 'all-cause', 'mortality', 'largely', 'disappeared', 'after', 'the', '1990s', '.', 'In', 'adolescents', 'and', 'young', 'adults', ',', 'especially', 'in', 'males', ',', 'death', 'rates', 'peaked', 'in', 'June/July', 'and', 'were', 'lowest', 'in', 'December/January', ',', 'driven', 'by', 'injury', 'deaths', '.', 'It', 'is', 'well-established', 'that', 'death', 'rates', 'vary', 'throughout', 'the', 'year', ',', 'and', 'in', 'temperate', 'climates', 'there', 'tend', 'to', 'be', 'more', 'deaths', 'in', 'winter', 'than', 'in', 'summer', '(', 'Campbell', ',', '2017', ';', 'Fowler', 'et', 'al', '.', ',', '2015', ';', 'Healy', ',', '2003', ';', 'McKee', ',', '1989', ')', '.', 'It', 'has', 'therefore', 'been', 'hypothesized', 'that', 'a', 'warmer', 'world', 'may', 'lower', 'winter', 'mortality', 'in', 'temperate', 'climates', '(', 'Langford', 'and', 'Bentham', ',', '1995', ';', 'Martens', ',', '1998', ')', '.', 'In', 'a', 'large', 'country', 'like', 'the', 'USA', ',', 'which', 'possesses', 'distinct', 'climate', 'regions', ',', 'the', 'seasonality', 'of', 'mortality', 'may', 'vary', 'geographically', ',', 'due', 'to', 'geographical', 'variations', 'in', 'mortality', ',', 'localized', 'weather', 'patterns', ',', 'and', 'regional', 'differences', 'in', 'adaptation', 'measures', 'such', 'as', 'heating', ',', 'air', 'conditioning', 'and', 'healthcare', '(', 'Davis', 'et', 'al', '.', ',', '2004', ';', 'Braga', 'et', 'al', '.', ',', '2001', ';', 'Kalkstein', ',', '2013', ';', 'Medina-Ramón', 'and', 'Schwartz', ',', '2007', ')', '.', 'The', 'presence', 'and', 'extent', 'of', 'seasonal', 'variation', 'in', 'mortality', 'may', 'also', 'itself', 'change', 'over', 'time', '(', 'Bobb', 'et', 'al', '.', ',', '2014', ';', 'Carson', 'et', 'al', '.', ',', '2006', ';', 'Seretakis', 'et', 'al', '.', ',', '1997', ';', 'Sheridan', 'et', 'al', '.', ',', '2009', ')', '.', 'A', 'thorough', 'understanding', 'of', 'the', 'long-term', 'dynamics', 'of', 'seasonality', 'of', 'mortality', ',', 'and', 'its', 'geographical', 'and', 'demographic', 'patterns', ',', 'is', 'needed', 'to', 'identify', 'at-risk', 'groups', ',', 'plan', 'responses', 'at', 'the', 'present', 'time', 'as', 'well', 'as', 'under', 'changing', 'climate', 'conditions', '.', 'Although', 'mortality', 'seasonality', 'is', 'well-established', ',', 'there', 'is', 'limited', 'information', 'on', 'how', 'seasonality', ',', 'including', 'the', 'timing', 'of', 'minimum', 'and', 'maximum', 'mortality', ',', 'varies', 'by', 'local', 'climate', 'and', 'how', 'these', 'features', 'have', 'changed', 'over', 'time', ',', 'especially', 'in', 'relation', 'to', 'age', 'group', ',', 'sex', 'and', 'medical', 'cause', 'of', 'death', '(', 'Rau', ',', '2004', ';', 'Rau', 'et', 'al', '.', ',', '2018', ')', '.', 'In', 'this', 'paper', ',', 'we', 'comprehensively', 'characterize', 'the', 'spatial', 'and', 'temporal', 'patterns', 'of', 'all-cause', 'and', 'cause-specific', 'mortality', 'seasonality', 'in', 'the', 'USA', 'by', 'sex', 'and', 'age', 'group', ',', 'through', 'the', 'application', 'of', 'wavelet', 'analytical', 'techniques', ',', 'to', 'over', 'three', 'decades', 'of', 'national', 'mortality', 'data', '.', 'Wavelets', 'have', 'been', 'used', 'to', 'study', 'the', 'dynamics', 'of', 'weather', 'phenomena', '(', 'Moy', 'et', 'al', '.', ',', '2002', ')', 'and', 'infectious', 'diseases', '(', 'Grenfell', 'et', 'al', '.', ',', '2001', ')', '.', 'We', 'also', 'used', 'centre', 'of', 'gravity', 'analysis', 'and', 'circular', 'statistics', 'methods', 'to', 'understand', 'the', 'timing', 'of', 'maximum', 'and', 'minimum', 'mortality', '.', 'In', 'addition', ',', 'we', 'identify', 'how', 'the', 'percentage', 'difference', 'between', 'death', 'rates', 'in', 'maximum', 'and', 'minimum', 'mortality', 'months', 'has', 'changed', 'over', 'time', '.', 'The', 'strengths', 'of', 'our', 'study', 'are', 'its', 'innovative', 'methods', 'of', 'characterizing', 'seasonality', 'of', 'mortality', 'dynamically', 'over', 'space', 'and', 'time', ',', 'by', 'age', 'group', 'and', 'cause', 'of', 'death', ';', 'using', 'wavelet', 'and', 'centre', 'of', 'gravity', 'analyses', ';', 'using', 'ERA-Interim', 'data', 'output', 'to', 'compare', 'the', 'association', 'between', 'seasonality', 'of', 'death', 'rates', 'and', 'regional', 'temperature', '.', 'A', 'limitation', 'of', 'our', 'study', 'is', 'that', 'we', 'did', 'not', 'investigate', 'seasonality', 'of', 'mortality', 'by', 'socioeconomic', 'characteristics', 'which', 'may', 'help', 'with', 'understanding', 'its', 'determinants', 'and', 'planning', 'responses', '.', 'We', 'used', 'wavelet', 'and', 'centre', 'of', 'gravity', 'analyses', ',', 'which', 'allowed', 'systematically', 'identifying', 'and', 'characterizing', 'seasonality', 'of', 'total', 'and', 'cause-specific', 'mortality', 'in', 'the', 'USA', ',', 'and', 'examining', 'how', 'seasonality', 'has', 'changed', 'over', 'time', '.', 'We', 'identified', 'distinct', 'seasonal', 'patterns', 'in', 'relation', 'to', 'age', 'and', 'sex', ',', 'including', 'higher', 'all-cause', 'summer', 'mortality', 'in', 'young', 'men', '(', 'Feinstein', ',', '2002', ';', 'Rau', 'et', 'al', '.', ',', '2018', ')', '.', 'Importantly', ',', 'we', 'also', 'showed', 'that', 'all-cause', 'and', 'cause-specific', 'mortality', 'seasonality', 'is', 'largely', 'similar', 'in', 'terms', 'of', 'both', 'timing', 'and', 'magnitude', 'across', 'diverse', 'climatic', 'regions', 'with', 'substantially', 'different', 'summer', 'and', 'winter', 'temperatures', '.', 'Insights', 'of', 'this', 'kind', 'would', 'not', 'have', 'been', 'possible', 'analysing', 'data', 'averaged', 'over', 'time', 'or', 'nationally', ',', 'or', 'fixed', 'to', 'pre-specified', 'frequencies', '.', 'Prior', 'studies', 'have', 'noted', 'seasonality', 'of', 'mortality', 'for', 'all-cause', 'mortality', 'and', 'for', 'specific', 'causes', 'of', 'death', 'in', 'the', 'USA', '(', 'Feinstein', ',', '2002', ';', 'Kalkstein', ',', '2013', ';', 'Rau', ',', '2004', ';', 'Rau', 'et', 'al', '.', ',', '2018', ';', 'Rosenwaike', ',', '1966', ';', 'Seretakis', 'et', 'al', '.', ',', '1997', ')', '.', 'Few', 'of', 'these', 'studies', 'have', 'done', 'consistent', 'national', 'and', 'subnational', 'analyses', ',', 'and', 'none', 'has', 'done', 'so', 'over', 'time', ',', 'for', 'a', 'comprehensive', 'set', 'of', 'age', 'groups', 'and', 'causes', 'of', 'death', ',', 'and', 'in', 'relation', 'to', 'regional', 'temperature', 'differences', '.', 'Our', 'results', 'on', 'strong', 'seasonality', 'of', 'cardiorespiratory', 'diseases', 'deaths', 'and', 'weak', 'seasonality', 'of', 'cancer', 'deaths', ',', 'restricted', 'to', 'older', 'ages', ',', 'are', 'broadly', 'consistent', 'with', 'these', 'studies', '(', 'Feinstein', ',', '2002', ';', 'Rau', 'et', 'al', '.', ',', '2018', ';', 'Rosenwaike', ',', '1966', ';', 'Seretakis', 'et', 'al', '.', ',', '1997', ')', ',', 'which', 'had', 'limited', 'analysis', 'on', 'how', 'seasonality', 'changes', 'over', 'time', 'and', 'geography', '(', 'Feinstein', ',', '2002', ';', 'Rau', 'et', 'al', '.', ',', '2018', ';', 'Rosenwaike', ',', '1966', ')', '.', 'Similarly', ',', 'our', 'results', 'on', 'seasonality', 'of', 'injury', 'deaths', 'are', 'supported', 'by', 'a', 'few', 'prior', 'studies', '(', 'Feinstein', ',', '2002', ';', 'Rau', 'et', 'al', '.', ',', '2018', ';', 'Rosenwaike', ',', '1966', ')', ',', 'but', 'our', 'subnational', 'analysis', 'over', 'three', 'decades', 'revealed', 'variations', 'in', 'when', 'injury', 'deaths', 'peaked', 'and', 'in', 'how', 'seasonal', 'differences', 'in', 'these', 'deaths', 'have', 'changed', 'over', 'time', 'in', 'relation', 'to', 'age', 'group', 'which', 'had', 'not', 'been', 'reported', 'before', '.', 'A', 'study', 'of', '36', 'cities', 'in', 'the', 'USA', ',', 'aggregated', 'across', 'age', 'groups', 'and', 'over', 'time', ',', 'also', 'found', 'that', 'excess', 'mortality', 'was', 'not', 'associated', 'with', 'seasonal', 'temperature', 'range', '(', 'Kinney', 'et', 'al', '.', ',', '2015', ')', '.', 'In', 'contrast', ',', 'a', 'European', 'study', 'found', 'that', 'the', 'difference', 'between', 'winter', 'and', 'summer', 'mortality', 'was', 'lower', 'in', 'colder', 'Nordic', 'countries', 'than', 'in', 'warmer', 'southern', 'European', 'nations', '(', 'Healy', ',', '2003', ';', 'McKee', ',', '1989', ')', '(', 'the', 'study', '’', 's', 'measure', 'of', 'temperature', 'was', 'mean', 'annual', 'temperature', 'which', 'differed', 'from', 'the', 'temperature', 'difference', 'between', 'maximum', 'and', 'minimum', 'mortality', 'used', 'in', 'our', 'analysis', 'although', 'the', 'two', 'measures', 'are', 'correlated', ')', '.', 'The', 'absence', 'of', 'variation', 'in', 'the', 'magnitude', 'of', 'mortality', 'seasonality', 'indicates', 'that', 'different', 'regions', 'in', 'the', 'USA', 'are', 'similarly', 'adapted', 'to', 'temperature', 'seasonality', ',', 'whereas', 'Nordic', 'countries', 'may', 'have', 'better', 'environmental', '(', 'e', '.', 'g', '.', 'housing', 'insulation', 'and', 'heating', ')', 'and', 'health', 'system', 'measures', 'to', 'counter', 'the', 'effects', 'of', 'cold', 'winters', 'than', 'those', 'in', 'southern', 'Europe', '.', 'If', 'the', 'observed', 'absence', 'of', 'association', 'between', 'the', 'magnitude', 'of', 'mortality', 'seasonality', 'and', 'seasonal', 'temperature', 'difference', 'across', 'the', 'climate', 'regions', 'also', 'persists', 'over', 'time', ',', 'the', 'changes', 'in', 'temperature', 'as', 'a', 'result', 'of', 'global', 'climate', 'change', 'are', 'unlikely', 'to', 'affect', 'the', 'winter-summer', 'mortality', 'difference', '.', 'The', 'cause-specific', 'analysis', 'showed', 'that', 'the', 'substantial', 'decline', 'in', 'seasonal', 'mortality', 'differences', 'in', 'adolescents', 'and', 'young', 'adults', 'was', 'related', 'to', 'the', 'diminishing', 'seasonality', 'of', '(', 'unintentional', ')', 'injuries', ',', 'especially', 'from', 'road', 'traffic', 'crashes', ',', 'which', 'are', 'more', 'likely', 'to', 'occur', 'in', 'the', 'summer', 'months', '(', 'Liu', 'et', 'al', '.', ',', '2005', ')', 'and', 'are', 'more', 'common', 'in', 'men', '.', 'The', 'weakening', 'of', 'seasonality', 'in', 'boys', 'under', 'five', 'years', 'of', 'age', 'was', 'related', 'to', 'two', 'phenomena', ':', 'first', ',', 'the', 'seasonality', 'of', 'death', 'from', 'cardiorespiratory', 'diseases', 'declined', ',', 'and', 'second', ',', 'the', 'proportion', 'of', 'deaths', 'from', 'perinatal', 'conditions', ',', 'which', 'exhibit', 'limited', 'seasonality', '(', 'Figure', '9—figure', 'supplement', '2', 'and', 'Figure', '10—figure', 'supplement', '3', ')', ',', 'increased', '(', 'MacDorman', 'and', 'Gregory', ',', '2015', ')', '.', 'In', 'contrast', 'to', 'young', 'and', 'middle', 'ages', ',', 'mortality', 'in', 'older', 'ages', ',', 'where', 'death', 'rates', 'are', 'highest', ',', 'maintained', 'persistent', 'seasonality', 'over', 'a', 'period', 'of', 'three', 'decades', '(', 'we', 'note', 'that', 'although', 'the', 'percent', 'seasonal', 'difference', 'in', 'mortality', 'has', 'remained', 'largely', 'unchanged', 'in', 'these', 'ages', ',', 'the', 'absolute', 'difference', 'in', 'death', 'rates', 'between', 'the', 'peak', 'and', 'minimum', 'months', 'has', 'declined', 'because', 'total', 'mortality', 'has', 'a', 'declining', 'long-term', 'trend', ')', '.', 'This', 'finding', 'demonstrates', 'the', 'need', 'for', 'environmental', 'and', 'health', 'service', 'interventions', 'targeted', 'towards', 'this', 'group', 'irrespective', 'of', 'geography', 'and', 'local', 'climate', '.', 'Examples', 'of', 'such', 'interventions', 'include', 'enhancing', 'the', 'availability', 'of', 'both', 'environmental', 'and', 'medical', 'protective', 'factors', ',', 'such', 'as', 'better', 'insulation', 'of', 'homes', ',', 'winter', 'heating', 'provision', 'and', 'flu', 'vaccinations', ',', 'for', 'the', 'vulnerable', 'older', 'population', '(', 'Katiyo', 'et', 'al', '.', ',', '2017', ')', '.', 'Social', 'interventions', ',', 'including', 'regular', 'visits', 'to', 'the', 'isolated', 'elderly', 'during', 'peak', 'mortality', 'periods', 'to', 'ensure', 'that', 'they', 'are', 'optimally', 'prepared', 'for', 'adverse', 'conditions', ',', 'and', 'responsive', 'and', 'high-quality', 'emergency', 'care', ',', 'are', 'also', 'important', 'to', 'protect', 'this', 'vulnerable', 'group', '(', 'Healy', ',', '2003', ';', 'Lerchl', ',', '1998', ';', 'Katiyo', 'et', 'al', '.', ',', '2017', ')', '.', 'Emergent', 'new', 'technologies', ',', 'such', 'as', 'always-connected', 'hands-free', 'communications', 'devices', 'with', 'the', 'outside', 'world', ',', 'in-house', 'cameras', ',', 'and', 'personal', 'sensors', 'also', 'provide', 'an', 'opportunity', 'to', 'enhance', 'care', 'for', 'the', 'older', ',', 'more', 'vulnerable', 'groups', 'in', 'the', 'population', ',', 'especially', 'in', 'winter', 'when', 'the', 'elderly', 'have', 'fewer', 'social', 'interactions', '(', 'Morris', ',', '2013', ')', '.', 'Such', 'interventions', 'are', 'important', 'today', ',', 'and', 'will', 'remain', 'so', 'as', 'the', 'population', 'ages', 'and', 'climate', 'change', 'increases', 'the', 'within-', 'and', 'between-season', 'weather', 'variability', '.', 'We', 'used', 'data', 'on', 'all', '85', ',', '854', ',', '176', 'deaths', 'in', 'the', 'USA', 'from', '1980', 'to', '2016', 'from', 'the', 'National', 'Center', 'for', 'Health', 'Statistics', '(', 'NCHS', ')', '.', 'Age', ',', 'sex', ',', 'state', 'of', 'residence', ',', 'month', 'of', 'death', ',', 'and', 'underlying', 'cause', 'of', 'death', 'were', 'available', 'for', 'each', 'record', '.', 'The', 'underlying', 'cause', 'of', 'death', 'was', 'coded', 'according', 'to', 'the', 'international', 'classification', 'of', 'diseases', '(', 'ICD', ')', 'system', '(', '9th', 'revision', 'of', 'ICD', 'from', '1980', 'to', '1998', 'and', '10th', 'revision', 'of', 'ICD', 'thereafter', ')', '.', 'Yearly', 'population', 'counts', 'were', 'available', 'from', 'NCHS', 'for', '1990', 'to', '2016', 'and', 'from', 'the', 'US', 'Census', 'Bureau', 'prior', 'to', '1990', '(', 'Ingram', 'et', 'al', '.', ',', '2003', ')', '.', 'We', 'calculated', 'monthly', 'population', 'counts', 'through', 'linear', 'interpolation', ',', 'assigning', 'each', 'yearly', 'count', 'to', 'July', '.', 'We', 'also', 'subdivided', 'the', 'national', 'data', 'geographically', 'into', 'nine', 'climate', 'regions', 'used', 'by', 'the', 'National', 'Oceanic', 'and', 'Atmospheric', 'Administration', '(', 'Figure', '18', 'and', 'Table', '2', ')', '(', 'Karl', 'and', 'Koss', ',', '1984', ')', '.', 'On', 'average', ',', 'the', 'Southeast', 'and', 'South', 'are', 'the', 'hottest', 'climate', 'regions', 'with', 'average', 'annual', 'temperatures', 'of', '18', '.', '4°C', 'and', '18°C', 'respectively', ';', 'the', 'South', 'also', 'possesses', 'the', 'highest', 'average', 'maximum', 'monthly', 'temperature', '(', '27', '.', '9°C', 'in', 'July', ')', '.', 'The', 'lowest', 'variation', 'in', 'temperature', 'throughout', 'the', 'year', 'is', 'that', 'of', 'the', 'Southeast', '(', 'an', 'average', 'range', 'of', '17', '.', '5°C', ')', '.', 'The', 'three', 'coldest', 'climate', 'regions', 'are', 'West', 'North', 'Central', ',', 'East', 'North', 'Central', 'and', 'the', 'Northwest', '(', '7', '.', '6°C', ',', '8', '.', '0°C', ',', '8', '.', '2°C', 'respectively', ')', '.', 'Mirroring', 'the', 'characteristics', 'of', 'the', 'hottest', 'climate', 'regions', ',', 'the', 'largest', 'variation', 'in', 'temperature', 'throughout', 'the', 'year', 'is', 'that', 'of', 'the', 'coldest', 'region', ',', 'West', 'North', 'Central', '(', 'an', 'average', 'range', 'of', '30', '.', '5°C', ')', ',', 'which', 'also', 'has', 'the', 'lowest', 'average', 'minimum', 'monthly', 'temperature', '(', '−6', '.', '5°C', 'in', 'January', ')', '.', 'The', 'other', 'climate', 'regions', ',', 'Northeast', ',', 'Southwest', ',', 'and', 'Central', ',', 'possess', 'similar', 'average', 'temperatures', '(', '10°C', 'to', '14°C', ')', 'and', 'variation', 'within', 'the', 'year', 'of', '(', '23°C', 'to', '26°C', ')', ',', 'with', 'the', 'Northeast', 'being', 'the', 'most', 'populous', 'region', 'in', 'the', 'United', 'States', '(', 'with', '19', '.', '8', '%', 'total', 'population', 'in', '2016', ')', '.', 'Data', 'were', 'divided', 'by', 'sex', 'and', 'age', 'in', 'the', 'following', '10', 'age', 'groups', ':', '0–4', ',', '5–14', ',', '15-24', ',', '25–34', ',', '35–44', ',', '45–54', ',', '55–64', ',', '65–74', ',', '75–84', ',', '85+', 'years', '.', 'We', 'calculated', 'monthly', 'death', 'rates', 'for', 'each', 'age', 'and', 'sex', 'group', ',', 'both', 'nationally', 'and', 'for', 'sub-national', 'climate', 'regions', '.', 'Death', 'rate', 'calculations', 'accounted', 'for', 'varying', 'length', 'of', 'months', ',', 'by', 'multiplying', 'each', 'month', '’', 's', 'death', 'count', 'by', 'a', 'factor', 'that', 'would', 'make', 'it', 'equivalent', 'to', 'a', '31', 'day', 'month', '.', 'For', 'analysis', 'of', 'seasonality', 'by', 'cause', 'of', 'death', ',', 'we', 'mapped', 'each', 'ICD-9', 'and', 'ICD-10', 'codes', 'to', 'four', 'main', 'disease', 'categories', '(', 'Table', '1', ')', 'and', 'to', 'a', 'number', 'of', 'subcategories', 'which', 'are', 'presented', 'in', 'the', 'Supplementary', 'Note', '.', 'Cardiorespiratory', 'diseases', 'and', 'cancers', 'accounted', 'for', '56', '.', '4', '%', 'and', '21', '.', '2', '%', 'of', 'all', 'deaths', 'in', 'the', 'USA', ',', 'respectively', ',', 'in', '1980', ',', 'and', '40', '.', '3', '%', 'and', '22', '.', '4', '%', ',', 'respectively', ',', 'in', '2016', '.', 'Deaths', 'from', 'cardiorespiratory', 'diseases', 'have', 'been', 'associated', 'with', 'cold', 'and', 'warm', 'temperatures', '(', 'Basu', ',', '2009', ';', 'Basu', 'and', 'Samet', ',', '2002', ';', 'Bennett', 'et', 'al', '.', ',', '2014', ';', 'Braga', 'et', 'al', '.', ',', '2002', ';', 'Gasparrini', 'et', 'al', '.', ',', '2015', ')', '.', 'Injuries', ',', 'which', 'accounted', 'for', '8', '%', 'of', 'all', 'deaths', 'in', 'the', 'USA', 'in', '1980', 'and', '7', '.', '3', '%', 'in', '2016', ',', 'may', 'have', 'seasonality', 'that', 'is', 'distinct', 'from', 'so-called', 'natural', 'causes', '.', 'We', 'did', 'not', 'further', 'divide', 'other', 'causes', 'because', 'the', 'number', 'of', 'deaths', 'could', 'become', 'too', 'small', 'to', 'allow', 'stable', 'estimates', 'when', 'divided', 'by', 'age', 'group', ',', 'sex', 'and', 'climate', 'region', '.', 'We', 'obtained', 'data', 'on', 'temperature', 'from', 'ERA-Interim', ',', 'which', 'combines', 'predictions', 'from', 'a', 'physical', 'model', 'with', 'ground-based', 'and', 'satellite', 'measurements', '(', 'Dee', 'et', 'al', '.', ',', '2011', ')', '.', 'We', 'used', 'gridded', 'four-times-daily', 'estimates', 'at', 'a', 'resolution', 'of', '80', 'km', 'to', 'generate', 'monthly', 'population-weighted', 'temperature', 'by', 'climate', 'region', 'throughout', 'the', 'analysis', 'period', '.', 'We', 'used', 'wavelet', 'analysis', 'to', 'investigate', 'seasonality', 'for', 'each', 'age-sex', 'group', '.', 'Wavelet', 'analysis', 'uncovers', 'the', 'presence', ',', 'and', 'frequency', ',', 'of', 'repeated', 'maxima', 'and', 'minima', 'in', 'each', 'age-sex-specific', 'death', 'rate', 'time', 'series', '(', 'Hubbard', ',', '1998', ';', 'Torrence', 'and', 'Compo', ',', '1998', ')', '.', 'In', 'brief', ',', 'a', 'Morlet', 'wavelet', ',', 'described', 'in', 'detail', 'elsewhere', '(', 'Cazelles', 'et', 'al', '.', ',', '2008', ')', ',', 'is', 'equivalent', 'to', 'using', 'a', 'moving', 'window', 'on', 'the', 'death', 'rate', 'time', 'series', 'and', 'analysing', 'periodicity', 'in', 'each', 'window', 'using', 'a', 'short-form', 'Fourier', 'transform', ',', 'hence', 'generating', 'a', 'dynamic', 'spectral', 'analysis', ',', 'which', 'allows', 'measuring', 'dynamic', 'seasonal', 'patterns', ',', 'in', 'which', 'the', 'periodicity', 'of', 'death', 'rates', 'may', 'disappear', ',', 'emerge', ',', 'or', 'change', 'over', 'time', '.', 'In', 'addition', 'to', 'coefficients', 'that', 'measure', 'the', 'frequency', 'of', 'periodicity', ',', 'wavelet', 'analysis', 'estimates', 'the', 'probability', 'of', 'whether', 'the', 'data', 'are', 'different', 'from', 'the', 'null', 'situation', 'of', 'random', 'fluctuations', 'that', 'can', 'be', 'represented', 'with', 'white', '(', 'an', 'independent', 'random', 'process', ')', 'or', 'red', '(', 'autoregressive', 'of', 'order', 'one', 'process', ')', 'noise', '.', 'For', 'each', 'age-sex', 'group', ',', 'we', 'calculated', 'the', 'p-values', 'of', 'the', 'presence', 'of', '12', 'month', 'seasonality', 'for', 'the', 'comparison', 'of', 'wavelet', 'power', 'spectra', 'of', 'the', 'entire', 'study', 'period', '(', '1980–2016', ')', 'with', '100', 'simulations', 'against', 'a', 'white', 'noise', 'spectrum', ',', 'which', 'represents', 'random', 'fluctuations', '.', 'We', 'used', 'the', 'R', 'package', 'WaveletComp', '(', 'version', '1', '.', '0', ')', 'for', 'the', 'wavelet', 'analysis', '.', 'Before', 'analysis', ',', 'we', 'de-trended', 'death', 'rates', 'using', 'a', 'polynomial', 'regression', ',', 'and', 'rescaled', 'each', 'death', 'rate', 'time', 'series', 'so', 'as', 'to', 'range', 'between', '1', 'and', '−1', '.', 'To', 'identify', 'the', 'months', 'of', 'maximum', 'and', 'minimum', 'death', 'rates', ',', 'we', 'calculated', 'the', 'centre', 'of', 'gravity', 'and', 'the', 'negative', 'centre', 'of', 'gravity', 'of', 'monthly', 'death', 'rates', '.', 'Centre', 'of', 'gravity', 'was', 'calculated', 'as', 'a', 'weighted', 'average', 'of', 'months', 'of', 'deaths', ',', 'with', 'each', 'month', 'weighted', 'by', 'its', 'death', 'rate', ';', 'negative', 'centre', 'of', 'gravity', 'was', 'also', 'calculated', 'as', 'a', 'weighted', 'average', 'of', 'months', 'of', 'deaths', ',', 'but', 'with', 'each', 'month', 'was', 'weighted', 'by', 'the', 'difference', 'between', 'its', 'death', 'rate', 'and', 'the', 'year', '’', 's', 'maximum', 'death', 'rate', '.', 'In', 'taking', 'the', 'weighted', 'average', ',', 'we', 'allowed', 'December', '(', 'month', '12', ')', 'to', 'neighbour', 'January', '(', 'month', '1', ')', ',', 'representing', 'each', 'month', 'by', 'an', 'angle', 'subtended', 'from', '12', 'equally-spaced', 'points', 'around', 'a', 'unit', 'circle', '.', 'Using', 'a', 'technique', 'called', 'circular', 'statistics', ',', 'a', 'mean', '(', 'θ-', ')', 'of', 'the', 'angles', '(', 'θ1', ',', 'θ2', ',', 'θ3…', ',', 'θn', ',', ')', 'representing', 'the', 'deaths', '(', 'with', 'n', 'the', 'total', 'number', 'of', 'deaths', 'in', 'an', 'age-sex', 'group', 'for', 'a', 'particular', 'cause', 'of', 'death', ')', 'is', 'found', 'using', 'the', 'relation', 'below', ':', 'θ-=arg∑j=1nexp\\u2061', '(', 'iθj', ')', ',', 'where', 'arg', 'denotes', 'the', 'complex', 'number', 'argument', 'and', 'θj', 'denotes', 'the', 'month', 'of', 'death', 'in', 'angular', 'form', 'for', 'a', 'particular', 'death', 'j', '.', 'The', 'outcome', 'of', 'this', 'calculation', 'is', 'then', 'converted', 'back', 'into', 'a', 'month', 'value', '(', 'Fisher', ',', '1995', ')', '.', 'Along', 'with', 'each', 'circular', 'mean', ',', 'a', '95', '%', 'confidence', 'interval', '(', 'CI', ')', 'was', 'calculated', 'by', 'using', '1000', 'bootstrap', 'samples', '.', 'The', 'R', 'package', 'CircStats', '(', 'version', '0', '.', '2', '.', '4', ')', 'was', 'used', 'for', 'this', 'analysis', '.', 'For', 'each', 'age-sex', 'group', 'and', 'cause', 'of', 'death', ',', 'and', 'for', 'each', 'year', ',', 'we', 'calculated', 'the', 'percent', 'difference', 'in', 'death', 'rates', 'between', 'the', 'maximum', 'and', 'minimum', 'mortality', 'months', '.', 'We', 'fitted', 'a', 'linear', 'regression', 'to', 'the', 'time', 'series', 'of', 'seasonal', 'differences', 'from', '1980', 'to', '2016', ',', 'and', 'used', 'the', 'fitted', 'trend', 'line', 'to', 'estimate', 'how', 'much', 'the', 'percentage', 'difference', 'in', 'death', 'rates', 'between', 'the', 'maximum', 'and', 'minimum', 'mortality', 'months', 'had', 'changed', 'from', '1980', 'to', '2016', '.', 'We', 'weighted', 'seasonal', 'difference', 'by', 'the', 'inverse', 'of', 'the', 'square', 'of', 'its', 'standard', 'error', ',', 'which', 'was', 'calculated', 'using', 'a', 'Poisson', 'model', 'to', 'take', 'population', 'size', 'of', 'each', 'age-sex', 'group', 'through', 'time', 'into', 'account', '.', 'This', 'method', 'gives', 'us', 'a', 'p-value', 'for', 'the', 'change', 'in', 'seasonal', 'difference', 'per', 'year', ',', 'which', 'we', 'used', 'to', 'calculate', 'the', 'seasonal', 'difference', 'at', 'the', 'start', '(', '1980', ')', 'and', 'end', '(', '2016', ')', 'of', 'the', 'period', 'of', 'study', '.', 'Our', 'method', 'of', 'analysing', 'seasonal', 'differences', 'avoids', 'assuming', 'that', 'any', 'specific', 'month', 'or', 'group', 'of', 'months', 'represent', 'highest', 'and', 'lowest', 'number', 'of', 'deaths', 'for', 'a', 'particular', 'cause', 'of', 'death', ',', 'which', 'is', 'the', 'approach', 'taken', 'by', 'the', 'traditional', 'measure', 'of', 'Excess', 'Winter', 'Deaths', '.', 'It', 'also', 'allows', 'the', 'maximum', 'and', 'minimum', 'mortality', 'months', 'to', 'vary', 'by', 'age', 'group', ',', 'sex', 'and', 'cause', 'of', 'death', '.']\n"
     ]
    }
   ],
   "source": [
    "#tokenize all words in all articles\n",
    "article_tokens = []\n",
    "for i in articles_list:\n",
    "    article_tokens.append(word_tokenize(i))\n",
    "print(article_tokens[0])"
   ]
  },
  {
   "cell_type": "code",
   "execution_count": 11,
   "id": "d0022e6f-a077-4ca9-bcfe-404ff756dd6f",
   "metadata": {},
   "outputs": [
    {
     "name": "stdout",
     "output_type": "stream",
     "text": [
      "In\n"
     ]
    }
   ],
   "source": [
    "#tokenizes raw article data into single list of tokens, not broken into sentences\n",
    "article_tokens_flat = [word for doc in article_tokens for word in doc]\n",
    "\n",
    "print(article_tokens_flat[0])"
   ]
  },
  {
   "cell_type": "code",
   "execution_count": 12,
   "id": "da74d943-2d70-47ab-83d5-3ff88810dc88",
   "metadata": {},
   "outputs": [
    {
     "name": "stdout",
     "output_type": "stream",
     "text": [
      "45321232\n"
     ]
    }
   ],
   "source": [
    "#collect raw tokens\n",
    "all_words_raw = []\n",
    "\n",
    "for w in article_tokens_flat :\n",
    "    all_words_raw.append(w)\n",
    "    \n",
    "print(len(all_words_raw))"
   ]
  },
  {
   "cell_type": "code",
   "execution_count": 13,
   "id": "84a78bbf-52a0-44f8-84a3-d38e41c55bb7",
   "metadata": {},
   "outputs": [
    {
     "data": {
      "text/plain": [
       "(717066, 45321232)"
      ]
     },
     "execution_count": 13,
     "metadata": {},
     "output_type": "execute_result"
    }
   ],
   "source": [
    "#gets count of tokens and types\n",
    "tokens = all_words_raw\n",
    "types = set(tokens)\n",
    "len(types), len(tokens)"
   ]
  },
  {
   "cell_type": "code",
   "execution_count": 14,
   "id": "3c544cbf-1532-486e-bde0-33ec974e3b24",
   "metadata": {},
   "outputs": [
    {
     "data": {
      "text/plain": [
       "FreqDist({'.': 2599695, ',': 2231581, 'the': 1630826, ')': 1309277, '(': 1307699, 'of': 1208012, 'and': 1052708, 'in': 821512, 'to': 619133, 'a': 471538, ...})"
      ]
     },
     "execution_count": 14,
     "metadata": {},
     "output_type": "execute_result"
    }
   ],
   "source": [
    "fdist1 = nltk.FreqDist(tokens)\n",
    "fdist1\n",
    "#create frequency distribution, checks all tokens and how often they occur in the vocab\n",
    "#prints out top 10 most used, these are usally stopwrods as the data has not been cleaned"
   ]
  },
  {
   "cell_type": "code",
   "execution_count": 15,
   "id": "e6996257-ae0b-4400-9b54-195ad6ee4bca",
   "metadata": {},
   "outputs": [
    {
     "data": {
      "image/png": "[encoded data removed]",
      "text/plain": [
       "<Figure size 640x480 with 1 Axes>"
      ]
     },
     "metadata": {},
     "output_type": "display_data"
    }
   ],
   "source": [
    "fdist1.plot(25, title = 'Raw Freqeuncy Distribution', cumulative = True);"
   ]
  },
  {
   "cell_type": "code",
   "execution_count": 16,
   "id": "447d16b7-f8d0-4149-98fd-f78ea9fbf12a",
   "metadata": {},
   "outputs": [
    {
     "data": {
      "text/plain": [
       "['geo-coded',\n",
       " 'June/July',\n",
       " 'December/January',\n",
       " 'Medina-Ramón',\n",
       " 'Bobb',\n",
       " 'winter-summer',\n",
       " 'MacDorman',\n",
       " 'Lerchl',\n",
       " 'always-connected',\n",
       " '15-24']"
      ]
     },
     "execution_count": 16,
     "metadata": {},
     "output_type": "execute_result"
    }
   ],
   "source": [
    "fdist1.hapaxes()[:10]\n",
    "#first ten unique words"
   ]
  },
  {
   "cell_type": "code",
   "execution_count": 17,
   "id": "50ef77f0-2d5a-498d-ac95-592bc8428eb3",
   "metadata": {},
   "outputs": [],
   "source": [
    "elife_doc_lengths = []\n",
    "\n",
    "for doc in articles_list:\n",
    "    elife_doc_lengths.append(len(doc))"
   ]
  },
  {
   "cell_type": "code",
   "execution_count": 18,
   "id": "b202cbb1-1b82-41eb-9de5-c3bb0c34da1c",
   "metadata": {},
   "outputs": [
    {
     "data": {
      "image/png": "[encoded data removed]",
      "text/plain": [
       "<Figure size 640x480 with 1 Axes>"
      ]
     },
     "metadata": {},
     "output_type": "display_data"
    }
   ],
   "source": [
    "n_bins = 20\n",
    "fig, axs = plt.subplots(1, sharey=True, tight_layout=True)\n",
    "axs.hist(elife_doc_lengths, bins=n_bins)\n",
    "axs.set_title(\"Elife Document Length\");\n",
    "axs.set_xlabel('Numer of Words per Document');\n",
    "axs.set_ylabel(\"Document Count\");"
   ]
  },
  {
   "cell_type": "code",
   "execution_count": 19,
   "id": "c63af546-2de3-4634-86e7-5e7a2e7255c7",
   "metadata": {},
   "outputs": [
    {
     "ename": "NameError",
     "evalue": "name 'wordnet' is not defined",
     "output_type": "error",
     "traceback": [
      "\u001b[0;31m---------------------------------------------------------------------------\u001b[0m",
      "\u001b[0;31mNameError\u001b[0m                                 Traceback (most recent call last)",
      "Cell \u001b[0;32mIn[19], line 5\u001b[0m\n\u001b[1;32m      3\u001b[0m clean_corpus \u001b[38;5;241m=\u001b[39m []\n\u001b[1;32m      4\u001b[0m \u001b[38;5;28;01mfor\u001b[39;00m doc \u001b[38;5;129;01min\u001b[39;00m articles_list:\n\u001b[0;32m----> 5\u001b[0m     clean_corpus\u001b[38;5;241m.\u001b[39mappend(\u001b[43mdata_cleaner\u001b[49m\u001b[43m(\u001b[49m\u001b[43mdoc\u001b[49m\u001b[43m)\u001b[49m)\n\u001b[1;32m      6\u001b[0m \u001b[38;5;28mprint\u001b[39m(\u001b[38;5;124m\"\u001b[39m\u001b[38;5;124mdone\u001b[39m\u001b[38;5;124m\"\u001b[39m)\n",
      "Cell \u001b[0;32mIn[7], line 12\u001b[0m, in \u001b[0;36mdata_cleaner\u001b[0;34m(doc)\u001b[0m\n\u001b[1;32m     10\u001b[0m \u001b[38;5;66;03m#print(doc)\u001b[39;00m\n\u001b[1;32m     11\u001b[0m doc \u001b[38;5;241m=\u001b[39m pos_tag(doc)\n\u001b[0;32m---> 12\u001b[0m doc \u001b[38;5;241m=\u001b[39m [(word[\u001b[38;5;241m0\u001b[39m], get_wordnet_pos(word[\u001b[38;5;241m1\u001b[39m])) \u001b[38;5;28;01mfor\u001b[39;00m word \u001b[38;5;129;01min\u001b[39;00m doc]\n\u001b[1;32m     13\u001b[0m \u001b[38;5;66;03m#print(doc)\u001b[39;00m\n\u001b[1;32m     14\u001b[0m lemmatizer \u001b[38;5;241m=\u001b[39m WordNetLemmatizer() \n",
      "Cell \u001b[0;32mIn[7], line 12\u001b[0m, in \u001b[0;36m<listcomp>\u001b[0;34m(.0)\u001b[0m\n\u001b[1;32m     10\u001b[0m \u001b[38;5;66;03m#print(doc)\u001b[39;00m\n\u001b[1;32m     11\u001b[0m doc \u001b[38;5;241m=\u001b[39m pos_tag(doc)\n\u001b[0;32m---> 12\u001b[0m doc \u001b[38;5;241m=\u001b[39m [(word[\u001b[38;5;241m0\u001b[39m], \u001b[43mget_wordnet_pos\u001b[49m\u001b[43m(\u001b[49m\u001b[43mword\u001b[49m\u001b[43m[\u001b[49m\u001b[38;5;241;43m1\u001b[39;49m\u001b[43m]\u001b[49m\u001b[43m)\u001b[49m) \u001b[38;5;28;01mfor\u001b[39;00m word \u001b[38;5;129;01min\u001b[39;00m doc]\n\u001b[1;32m     13\u001b[0m \u001b[38;5;66;03m#print(doc)\u001b[39;00m\n\u001b[1;32m     14\u001b[0m lemmatizer \u001b[38;5;241m=\u001b[39m WordNetLemmatizer() \n",
      "Cell \u001b[0;32mIn[6], line 10\u001b[0m, in \u001b[0;36mget_wordnet_pos\u001b[0;34m(treebank_tag)\u001b[0m\n\u001b[1;32m      8\u001b[0m     \u001b[38;5;28;01mreturn\u001b[39;00m wordnet\u001b[38;5;241m.\u001b[39mVERB\n\u001b[1;32m      9\u001b[0m \u001b[38;5;28;01melif\u001b[39;00m treebank_tag\u001b[38;5;241m.\u001b[39mstartswith(\u001b[38;5;124m'\u001b[39m\u001b[38;5;124mN\u001b[39m\u001b[38;5;124m'\u001b[39m):\n\u001b[0;32m---> 10\u001b[0m     \u001b[38;5;28;01mreturn\u001b[39;00m \u001b[43mwordnet\u001b[49m\u001b[38;5;241m.\u001b[39mNOUN\n\u001b[1;32m     11\u001b[0m \u001b[38;5;28;01melif\u001b[39;00m treebank_tag\u001b[38;5;241m.\u001b[39mstartswith(\u001b[38;5;124m'\u001b[39m\u001b[38;5;124mR\u001b[39m\u001b[38;5;124m'\u001b[39m):\n\u001b[1;32m     12\u001b[0m     \u001b[38;5;28;01mreturn\u001b[39;00m wordnet\u001b[38;5;241m.\u001b[39mADV\n",
      "\u001b[0;31mNameError\u001b[0m: name 'wordnet' is not defined"
     ]
    }
   ],
   "source": [
    "#run data through data cleaning function\n",
    "\n",
    "clean_corpus = []\n",
    "for doc in articles_list:\n",
    "    clean_corpus.append(data_cleaner(doc))\n",
    "print(\"done\")"
   ]
  },
  {
   "cell_type": "code",
   "execution_count": null,
   "id": "29f3b1dc-929b-423a-a94e-48e11aeca8a0",
   "metadata": {},
   "outputs": [],
   "source": [
    "df_elife_train['clean'] = clean_corpus\n",
    "\n",
    "df_elife_train.head()"
   ]
  },
  {
   "cell_type": "code",
   "execution_count": null,
   "id": "d08c5c06-c6ec-4810-a156-ad9b3d1d7401",
   "metadata": {},
   "outputs": [],
   "source": [
    "def wordcloud_maker(df, stopwords = None):\n",
    "    \"\"\"cretes words clouds from cleaned data\"\"\"\n",
    "    all_clean = \" \".join(review for review in df.clean)\n",
    "    wordcloud = WordCloud(stopwords = stopwords, background_color=\"white\").generate(all_clean)\n",
    "    plt.imshow(wordcloud, interpolation='bilinear')\n",
    "    plt.axis(\"off\")\n",
    "    plt.show()"
   ]
  },
  {
   "cell_type": "code",
   "execution_count": null,
   "id": "bbd0772c-33ea-4e09-aa35-433fa4856739",
   "metadata": {},
   "outputs": [],
   "source": [
    "wordcloud_maker(df_elife_train)"
   ]
  },
  {
   "cell_type": "code",
   "execution_count": null,
   "id": "cc05f63b-939e-452e-b067-3da2d2517cde",
   "metadata": {},
   "outputs": [],
   "source": [
    "#These results are extremely funny. We might want to create a custom stopwords \n",
    "#list to remove things like et al, figure, doi, dx, org, elife etc"
   ]
  }
 ],
 "metadata": {
  "kernelspec": {
   "display_name": "Python 3 (ipykernel)",
   "language": "python",
   "name": "python3"
  },
  "language_info": {
   "codemirror_mode": {
    "name": "ipython",
    "version": 3
   },
   "file_extension": ".py",
   "mimetype": "text/x-python",
   "name": "python",
   "nbconvert_exporter": "python",
   "pygments_lexer": "ipython3",
   "version": "3.9.6"
  }
 },
 "nbformat": 4,
 "nbformat_minor": 5
}
